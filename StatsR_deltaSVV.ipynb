{
 "cells": [
  {
   "cell_type": "code",
   "execution_count": 69,
   "metadata": {},
   "outputs": [],
   "source": [
    "library('afex')\n",
    "library('emmeans')\n",
    "# library('multicomp')\n",
    "library('ggplot2')\n",
    "afex_options(emmeans_model = 'multivariate')\n",
    "\n",
    "library('dplyr')\n",
    "library('car')\n",
    "\n",
    "library(repr)\n",
    "options(repr.plot.width=4, repr.plot.height=3)\n"
   ]
  },
  {
   "cell_type": "markdown",
   "metadata": {},
   "source": [
    "# __Read results table__\n",
    "created with [Python notebook](./2020_SVV.ipynb)"
   ]
  },
  {
   "cell_type": "code",
   "execution_count": 3,
   "metadata": {
    "scrolled": true
   },
   "outputs": [
    {
     "data": {
      "text/html": [
       "<table>\n",
       "<caption>A data.frame: 240 × 7</caption>\n",
       "<thead>\n",
       "\t<tr><th scope=col>id</th><th scope=col>stim</th><th scope=col>freq</th><th scope=col>dSVV_mean</th><th scope=col>dSVV_std</th><th scope=col>dVel_mean</th><th scope=col>dVel_std</th></tr>\n",
       "\t<tr><th scope=col>&lt;fct&gt;</th><th scope=col>&lt;fct&gt;</th><th scope=col>&lt;int&gt;</th><th scope=col>&lt;dbl&gt;</th><th scope=col>&lt;dbl&gt;</th><th scope=col>&lt;dbl&gt;</th><th scope=col>&lt;dbl&gt;</th></tr>\n",
       "</thead>\n",
       "<tbody>\n",
       "\t<tr><td>S40</td><td>AC</td><td> 20</td><td>-0.67500000</td><td>-0.228501989</td><td>-0.61603339</td><td>-0.95462566</td></tr>\n",
       "\t<tr><td>S40</td><td>AC</td><td> 60</td><td>-0.03333333</td><td>-0.459897420</td><td> 0.56464154</td><td>-0.62838990</td></tr>\n",
       "\t<tr><td>S40</td><td>AC</td><td>120</td><td>-0.05000000</td><td>-0.094010186</td><td>-0.07464574</td><td>-0.49016465</td></tr>\n",
       "\t<tr><td>S40</td><td>AC</td><td>160</td><td>-0.10833333</td><td>-0.059064481</td><td>-0.31750453</td><td>-0.68853187</td></tr>\n",
       "\t<tr><td>S40</td><td>MF</td><td> 20</td><td> 0.44166667</td><td>-0.148514280</td><td> 0.54194217</td><td>-0.35186438</td></tr>\n",
       "\t<tr><td>S40</td><td>MF</td><td> 60</td><td>-0.11666667</td><td>-0.309639733</td><td>-0.26055237</td><td>-1.00085964</td></tr>\n",
       "\t<tr><td>S40</td><td>MF</td><td>120</td><td>-0.15000000</td><td>-0.148427069</td><td> 0.05500727</td><td>-0.85891456</td></tr>\n",
       "\t<tr><td>S40</td><td>MF</td><td>160</td><td> 0.60833333</td><td> 0.294927567</td><td>-0.14950852</td><td>-0.32889032</td></tr>\n",
       "\t<tr><td>S41</td><td>AC</td><td> 20</td><td> 1.04698944</td><td> 0.352716808</td><td> 0.06882030</td><td>-0.07687681</td></tr>\n",
       "\t<tr><td>S41</td><td>AC</td><td> 60</td><td> 0.98315300</td><td> 0.638739755</td><td> 0.48873198</td><td> 0.14848450</td></tr>\n",
       "\t<tr><td>S41</td><td>AC</td><td>120</td><td> 0.58240355</td><td>-0.061267793</td><td> 0.57639704</td><td> 0.02863650</td></tr>\n",
       "\t<tr><td>S41</td><td>AC</td><td>160</td><td> 0.53257551</td><td>-0.123669583</td><td>-1.24350895</td><td>-0.73422553</td></tr>\n",
       "\t<tr><td>S41</td><td>MF</td><td> 20</td><td> 0.36381866</td><td> 0.271143079</td><td>-0.07202078</td><td>-0.71039872</td></tr>\n",
       "\t<tr><td>S41</td><td>MF</td><td> 60</td><td> 0.53421136</td><td> 0.449832522</td><td>-0.05788493</td><td>-0.44990579</td></tr>\n",
       "\t<tr><td>S41</td><td>MF</td><td>120</td><td> 0.63802488</td><td> 0.104920364</td><td> 0.49884315</td><td>-0.55961692</td></tr>\n",
       "\t<tr><td>S41</td><td>MF</td><td>160</td><td> 0.11000554</td><td> 0.401127702</td><td>-0.17262137</td><td>-0.19460360</td></tr>\n",
       "\t<tr><td>S42</td><td>AC</td><td> 20</td><td>-0.19339089</td><td>-0.140311502</td><td> 0.39571377</td><td>-0.24885763</td></tr>\n",
       "\t<tr><td>S42</td><td>AC</td><td> 60</td><td> 0.49889905</td><td>-0.079608252</td><td> 0.56859590</td><td> 0.04093962</td></tr>\n",
       "\t<tr><td>S42</td><td>AC</td><td>120</td><td> 0.62204684</td><td> 0.155523114</td><td> 0.99382233</td><td> 0.49315714</td></tr>\n",
       "\t<tr><td>S42</td><td>AC</td><td>160</td><td> 0.36252268</td><td>-0.301857577</td><td> 0.23912349</td><td>-0.36305651</td></tr>\n",
       "\t<tr><td>S42</td><td>MF</td><td> 20</td><td> 0.21711329</td><td> 0.079214149</td><td>-0.20708880</td><td>-0.61399091</td></tr>\n",
       "\t<tr><td>S42</td><td>MF</td><td> 60</td><td> 0.78971752</td><td>-0.148657764</td><td>-0.02837724</td><td> 0.06552794</td></tr>\n",
       "\t<tr><td>S42</td><td>MF</td><td>120</td><td> 0.46207905</td><td>-0.059257017</td><td> 0.88514695</td><td>-0.29119187</td></tr>\n",
       "\t<tr><td>S42</td><td>MF</td><td>160</td><td>-0.04390189</td><td>-0.034960499</td><td> 0.80317614</td><td>-0.39688886</td></tr>\n",
       "\t<tr><td>S43</td><td>AC</td><td> 20</td><td>-0.47277120</td><td>-0.411895413</td><td>-0.80239238</td><td> 0.09816429</td></tr>\n",
       "\t<tr><td>S43</td><td>AC</td><td> 60</td><td>-0.25854407</td><td>-0.420355987</td><td>-0.40169011</td><td> 0.14883057</td></tr>\n",
       "\t<tr><td>S43</td><td>AC</td><td>120</td><td>-0.08227356</td><td>-0.007258297</td><td>-1.16014652</td><td>-0.23653548</td></tr>\n",
       "\t<tr><td>S43</td><td>AC</td><td>160</td><td>-0.16567577</td><td>-0.150328661</td><td>-0.10606828</td><td> 0.17217542</td></tr>\n",
       "\t<tr><td>S43</td><td>MF</td><td> 20</td><td>-0.32891660</td><td>-0.114334660</td><td>-0.26590056</td><td>-0.29017296</td></tr>\n",
       "\t<tr><td>S43</td><td>MF</td><td> 60</td><td>-0.40079378</td><td>-0.483966372</td><td>-0.16650653</td><td> 0.38414819</td></tr>\n",
       "\t<tr><td>⋮</td><td>⋮</td><td>⋮</td><td>⋮</td><td>⋮</td><td>⋮</td><td>⋮</td></tr>\n",
       "\t<tr><td>S69</td><td>AC</td><td>120</td><td>-0.58661876</td><td>-0.2033828</td><td> 1.196099408</td><td> 0.12233886</td></tr>\n",
       "\t<tr><td>S69</td><td>AC</td><td>160</td><td> 0.17154355</td><td>-0.1389585</td><td> 1.228641317</td><td> 0.60431896</td></tr>\n",
       "\t<tr><td>S69</td><td>MF</td><td> 20</td><td>-0.71132654</td><td> 0.1720141</td><td> 1.283492664</td><td> 0.69265183</td></tr>\n",
       "\t<tr><td>S69</td><td>MF</td><td> 60</td><td>-0.29627881</td><td> 0.3903524</td><td>-0.006148402</td><td>-0.24828678</td></tr>\n",
       "\t<tr><td>S69</td><td>MF</td><td>120</td><td>-0.42650879</td><td> 1.0001629</td><td> 0.223649613</td><td> 0.18115914</td></tr>\n",
       "\t<tr><td>S69</td><td>MF</td><td>160</td><td>-0.66283700</td><td>-0.1695089</td><td> 0.864362839</td><td> 0.35372974</td></tr>\n",
       "\t<tr><td>S70</td><td>AC</td><td> 20</td><td>-0.90398871</td><td> 0.2461643</td><td> 0.080741242</td><td> 1.15889057</td></tr>\n",
       "\t<tr><td>S70</td><td>AC</td><td> 60</td><td> 0.13129548</td><td>-0.1527895</td><td>-0.343027628</td><td>-0.06737068</td></tr>\n",
       "\t<tr><td>S70</td><td>AC</td><td>120</td><td> 0.29404338</td><td> 0.3360099</td><td>-0.366047568</td><td> 0.18866581</td></tr>\n",
       "\t<tr><td>S70</td><td>AC</td><td>160</td><td>-0.23306832</td><td>-0.2366068</td><td> 0.348103055</td><td> 0.02754843</td></tr>\n",
       "\t<tr><td>S70</td><td>MF</td><td> 20</td><td>-0.14390330</td><td>-0.1170678</td><td>-0.266574430</td><td>-0.28257381</td></tr>\n",
       "\t<tr><td>S70</td><td>MF</td><td> 60</td><td>-0.37258039</td><td>-0.1981451</td><td> 0.933374271</td><td>-0.50190322</td></tr>\n",
       "\t<tr><td>S70</td><td>MF</td><td>120</td><td>-0.17630599</td><td>-0.1622120</td><td>-0.743800152</td><td>-1.03473445</td></tr>\n",
       "\t<tr><td>S70</td><td>MF</td><td>160</td><td>-0.10371286</td><td>-0.4842325</td><td>-0.275848446</td><td>-0.63237437</td></tr>\n",
       "\t<tr><td>S71</td><td>AC</td><td> 20</td><td>-0.28434573</td><td>-0.3062553</td><td>-0.054543662</td><td> 0.20874461</td></tr>\n",
       "\t<tr><td>S71</td><td>AC</td><td> 60</td><td> 0.15067927</td><td>-0.4851073</td><td> 0.506788010</td><td> 0.30693002</td></tr>\n",
       "\t<tr><td>S71</td><td>AC</td><td>120</td><td> 0.58064504</td><td>-0.5017699</td><td>-0.264221923</td><td> 0.06193348</td></tr>\n",
       "\t<tr><td>S71</td><td>AC</td><td>160</td><td> 0.51166808</td><td>-0.7247022</td><td>-0.151575118</td><td> 0.13438843</td></tr>\n",
       "\t<tr><td>S71</td><td>MF</td><td> 20</td><td>-0.10474319</td><td>-0.4394301</td><td> 0.432920956</td><td>-0.02902913</td></tr>\n",
       "\t<tr><td>S71</td><td>MF</td><td> 60</td><td>-0.37146409</td><td>-0.4794318</td><td>-0.051104347</td><td> 0.03033271</td></tr>\n",
       "\t<tr><td>S71</td><td>MF</td><td>120</td><td>-0.03839314</td><td>-0.3404778</td><td> 0.324159756</td><td> 0.04940786</td></tr>\n",
       "\t<tr><td>S71</td><td>MF</td><td>160</td><td>-0.12219891</td><td>-0.3389607</td><td> 0.013078604</td><td> 0.15147480</td></tr>\n",
       "\t<tr><td>S72</td><td>AC</td><td> 20</td><td> 0.02811741</td><td>-0.1774317</td><td> 0.063879308</td><td> 0.17808307</td></tr>\n",
       "\t<tr><td>S72</td><td>AC</td><td> 60</td><td>-0.03401634</td><td>-0.1255549</td><td>-0.524544709</td><td>-0.27546890</td></tr>\n",
       "\t<tr><td>S72</td><td>AC</td><td>120</td><td>-0.29358784</td><td> 0.1752005</td><td> 0.447782160</td><td> 0.07609455</td></tr>\n",
       "\t<tr><td>S72</td><td>AC</td><td>160</td><td>-0.22563811</td><td>-0.3583950</td><td>-0.386081331</td><td>-0.51996566</td></tr>\n",
       "\t<tr><td>S72</td><td>MF</td><td> 20</td><td>-0.14571600</td><td>-0.4224414</td><td>-0.268376052</td><td> 0.64898819</td></tr>\n",
       "\t<tr><td>S72</td><td>MF</td><td> 60</td><td>-0.17772250</td><td>-0.1301999</td><td>-0.273425675</td><td>-0.41206446</td></tr>\n",
       "\t<tr><td>S72</td><td>MF</td><td>120</td><td>-0.35105657</td><td>-0.3504438</td><td> 0.018237335</td><td> 0.44292012</td></tr>\n",
       "\t<tr><td>S72</td><td>MF</td><td>160</td><td>-0.14081239</td><td>-0.0213603</td><td>-0.622355172</td><td>-0.05901571</td></tr>\n",
       "</tbody>\n",
       "</table>\n"
      ],
      "text/latex": [
       "A data.frame: 240 × 7\n",
       "\\begin{tabular}{lllllll}\n",
       " id & stim & freq & dSVV\\_mean & dSVV\\_std & dVel\\_mean & dVel\\_std\\\\\n",
       " <fct> & <fct> & <int> & <dbl> & <dbl> & <dbl> & <dbl>\\\\\n",
       "\\hline\n",
       "\t S40 & AC &  20 & -0.67500000 & -0.228501989 & -0.61603339 & -0.95462566\\\\\n",
       "\t S40 & AC &  60 & -0.03333333 & -0.459897420 &  0.56464154 & -0.62838990\\\\\n",
       "\t S40 & AC & 120 & -0.05000000 & -0.094010186 & -0.07464574 & -0.49016465\\\\\n",
       "\t S40 & AC & 160 & -0.10833333 & -0.059064481 & -0.31750453 & -0.68853187\\\\\n",
       "\t S40 & MF &  20 &  0.44166667 & -0.148514280 &  0.54194217 & -0.35186438\\\\\n",
       "\t S40 & MF &  60 & -0.11666667 & -0.309639733 & -0.26055237 & -1.00085964\\\\\n",
       "\t S40 & MF & 120 & -0.15000000 & -0.148427069 &  0.05500727 & -0.85891456\\\\\n",
       "\t S40 & MF & 160 &  0.60833333 &  0.294927567 & -0.14950852 & -0.32889032\\\\\n",
       "\t S41 & AC &  20 &  1.04698944 &  0.352716808 &  0.06882030 & -0.07687681\\\\\n",
       "\t S41 & AC &  60 &  0.98315300 &  0.638739755 &  0.48873198 &  0.14848450\\\\\n",
       "\t S41 & AC & 120 &  0.58240355 & -0.061267793 &  0.57639704 &  0.02863650\\\\\n",
       "\t S41 & AC & 160 &  0.53257551 & -0.123669583 & -1.24350895 & -0.73422553\\\\\n",
       "\t S41 & MF &  20 &  0.36381866 &  0.271143079 & -0.07202078 & -0.71039872\\\\\n",
       "\t S41 & MF &  60 &  0.53421136 &  0.449832522 & -0.05788493 & -0.44990579\\\\\n",
       "\t S41 & MF & 120 &  0.63802488 &  0.104920364 &  0.49884315 & -0.55961692\\\\\n",
       "\t S41 & MF & 160 &  0.11000554 &  0.401127702 & -0.17262137 & -0.19460360\\\\\n",
       "\t S42 & AC &  20 & -0.19339089 & -0.140311502 &  0.39571377 & -0.24885763\\\\\n",
       "\t S42 & AC &  60 &  0.49889905 & -0.079608252 &  0.56859590 &  0.04093962\\\\\n",
       "\t S42 & AC & 120 &  0.62204684 &  0.155523114 &  0.99382233 &  0.49315714\\\\\n",
       "\t S42 & AC & 160 &  0.36252268 & -0.301857577 &  0.23912349 & -0.36305651\\\\\n",
       "\t S42 & MF &  20 &  0.21711329 &  0.079214149 & -0.20708880 & -0.61399091\\\\\n",
       "\t S42 & MF &  60 &  0.78971752 & -0.148657764 & -0.02837724 &  0.06552794\\\\\n",
       "\t S42 & MF & 120 &  0.46207905 & -0.059257017 &  0.88514695 & -0.29119187\\\\\n",
       "\t S42 & MF & 160 & -0.04390189 & -0.034960499 &  0.80317614 & -0.39688886\\\\\n",
       "\t S43 & AC &  20 & -0.47277120 & -0.411895413 & -0.80239238 &  0.09816429\\\\\n",
       "\t S43 & AC &  60 & -0.25854407 & -0.420355987 & -0.40169011 &  0.14883057\\\\\n",
       "\t S43 & AC & 120 & -0.08227356 & -0.007258297 & -1.16014652 & -0.23653548\\\\\n",
       "\t S43 & AC & 160 & -0.16567577 & -0.150328661 & -0.10606828 &  0.17217542\\\\\n",
       "\t S43 & MF &  20 & -0.32891660 & -0.114334660 & -0.26590056 & -0.29017296\\\\\n",
       "\t S43 & MF &  60 & -0.40079378 & -0.483966372 & -0.16650653 &  0.38414819\\\\\n",
       "\t ⋮ & ⋮ & ⋮ & ⋮ & ⋮ & ⋮ & ⋮\\\\\n",
       "\t S69 & AC & 120 & -0.58661876 & -0.2033828 &  1.196099408 &  0.12233886\\\\\n",
       "\t S69 & AC & 160 &  0.17154355 & -0.1389585 &  1.228641317 &  0.60431896\\\\\n",
       "\t S69 & MF &  20 & -0.71132654 &  0.1720141 &  1.283492664 &  0.69265183\\\\\n",
       "\t S69 & MF &  60 & -0.29627881 &  0.3903524 & -0.006148402 & -0.24828678\\\\\n",
       "\t S69 & MF & 120 & -0.42650879 &  1.0001629 &  0.223649613 &  0.18115914\\\\\n",
       "\t S69 & MF & 160 & -0.66283700 & -0.1695089 &  0.864362839 &  0.35372974\\\\\n",
       "\t S70 & AC &  20 & -0.90398871 &  0.2461643 &  0.080741242 &  1.15889057\\\\\n",
       "\t S70 & AC &  60 &  0.13129548 & -0.1527895 & -0.343027628 & -0.06737068\\\\\n",
       "\t S70 & AC & 120 &  0.29404338 &  0.3360099 & -0.366047568 &  0.18866581\\\\\n",
       "\t S70 & AC & 160 & -0.23306832 & -0.2366068 &  0.348103055 &  0.02754843\\\\\n",
       "\t S70 & MF &  20 & -0.14390330 & -0.1170678 & -0.266574430 & -0.28257381\\\\\n",
       "\t S70 & MF &  60 & -0.37258039 & -0.1981451 &  0.933374271 & -0.50190322\\\\\n",
       "\t S70 & MF & 120 & -0.17630599 & -0.1622120 & -0.743800152 & -1.03473445\\\\\n",
       "\t S70 & MF & 160 & -0.10371286 & -0.4842325 & -0.275848446 & -0.63237437\\\\\n",
       "\t S71 & AC &  20 & -0.28434573 & -0.3062553 & -0.054543662 &  0.20874461\\\\\n",
       "\t S71 & AC &  60 &  0.15067927 & -0.4851073 &  0.506788010 &  0.30693002\\\\\n",
       "\t S71 & AC & 120 &  0.58064504 & -0.5017699 & -0.264221923 &  0.06193348\\\\\n",
       "\t S71 & AC & 160 &  0.51166808 & -0.7247022 & -0.151575118 &  0.13438843\\\\\n",
       "\t S71 & MF &  20 & -0.10474319 & -0.4394301 &  0.432920956 & -0.02902913\\\\\n",
       "\t S71 & MF &  60 & -0.37146409 & -0.4794318 & -0.051104347 &  0.03033271\\\\\n",
       "\t S71 & MF & 120 & -0.03839314 & -0.3404778 &  0.324159756 &  0.04940786\\\\\n",
       "\t S71 & MF & 160 & -0.12219891 & -0.3389607 &  0.013078604 &  0.15147480\\\\\n",
       "\t S72 & AC &  20 &  0.02811741 & -0.1774317 &  0.063879308 &  0.17808307\\\\\n",
       "\t S72 & AC &  60 & -0.03401634 & -0.1255549 & -0.524544709 & -0.27546890\\\\\n",
       "\t S72 & AC & 120 & -0.29358784 &  0.1752005 &  0.447782160 &  0.07609455\\\\\n",
       "\t S72 & AC & 160 & -0.22563811 & -0.3583950 & -0.386081331 & -0.51996566\\\\\n",
       "\t S72 & MF &  20 & -0.14571600 & -0.4224414 & -0.268376052 &  0.64898819\\\\\n",
       "\t S72 & MF &  60 & -0.17772250 & -0.1301999 & -0.273425675 & -0.41206446\\\\\n",
       "\t S72 & MF & 120 & -0.35105657 & -0.3504438 &  0.018237335 &  0.44292012\\\\\n",
       "\t S72 & MF & 160 & -0.14081239 & -0.0213603 & -0.622355172 & -0.05901571\\\\\n",
       "\\end{tabular}\n"
      ],
      "text/markdown": [
       "\n",
       "A data.frame: 240 × 7\n",
       "\n",
       "| id &lt;fct&gt; | stim &lt;fct&gt; | freq &lt;int&gt; | dSVV_mean &lt;dbl&gt; | dSVV_std &lt;dbl&gt; | dVel_mean &lt;dbl&gt; | dVel_std &lt;dbl&gt; |\n",
       "|---|---|---|---|---|---|---|\n",
       "| S40 | AC |  20 | -0.67500000 | -0.228501989 | -0.61603339 | -0.95462566 |\n",
       "| S40 | AC |  60 | -0.03333333 | -0.459897420 |  0.56464154 | -0.62838990 |\n",
       "| S40 | AC | 120 | -0.05000000 | -0.094010186 | -0.07464574 | -0.49016465 |\n",
       "| S40 | AC | 160 | -0.10833333 | -0.059064481 | -0.31750453 | -0.68853187 |\n",
       "| S40 | MF |  20 |  0.44166667 | -0.148514280 |  0.54194217 | -0.35186438 |\n",
       "| S40 | MF |  60 | -0.11666667 | -0.309639733 | -0.26055237 | -1.00085964 |\n",
       "| S40 | MF | 120 | -0.15000000 | -0.148427069 |  0.05500727 | -0.85891456 |\n",
       "| S40 | MF | 160 |  0.60833333 |  0.294927567 | -0.14950852 | -0.32889032 |\n",
       "| S41 | AC |  20 |  1.04698944 |  0.352716808 |  0.06882030 | -0.07687681 |\n",
       "| S41 | AC |  60 |  0.98315300 |  0.638739755 |  0.48873198 |  0.14848450 |\n",
       "| S41 | AC | 120 |  0.58240355 | -0.061267793 |  0.57639704 |  0.02863650 |\n",
       "| S41 | AC | 160 |  0.53257551 | -0.123669583 | -1.24350895 | -0.73422553 |\n",
       "| S41 | MF |  20 |  0.36381866 |  0.271143079 | -0.07202078 | -0.71039872 |\n",
       "| S41 | MF |  60 |  0.53421136 |  0.449832522 | -0.05788493 | -0.44990579 |\n",
       "| S41 | MF | 120 |  0.63802488 |  0.104920364 |  0.49884315 | -0.55961692 |\n",
       "| S41 | MF | 160 |  0.11000554 |  0.401127702 | -0.17262137 | -0.19460360 |\n",
       "| S42 | AC |  20 | -0.19339089 | -0.140311502 |  0.39571377 | -0.24885763 |\n",
       "| S42 | AC |  60 |  0.49889905 | -0.079608252 |  0.56859590 |  0.04093962 |\n",
       "| S42 | AC | 120 |  0.62204684 |  0.155523114 |  0.99382233 |  0.49315714 |\n",
       "| S42 | AC | 160 |  0.36252268 | -0.301857577 |  0.23912349 | -0.36305651 |\n",
       "| S42 | MF |  20 |  0.21711329 |  0.079214149 | -0.20708880 | -0.61399091 |\n",
       "| S42 | MF |  60 |  0.78971752 | -0.148657764 | -0.02837724 |  0.06552794 |\n",
       "| S42 | MF | 120 |  0.46207905 | -0.059257017 |  0.88514695 | -0.29119187 |\n",
       "| S42 | MF | 160 | -0.04390189 | -0.034960499 |  0.80317614 | -0.39688886 |\n",
       "| S43 | AC |  20 | -0.47277120 | -0.411895413 | -0.80239238 |  0.09816429 |\n",
       "| S43 | AC |  60 | -0.25854407 | -0.420355987 | -0.40169011 |  0.14883057 |\n",
       "| S43 | AC | 120 | -0.08227356 | -0.007258297 | -1.16014652 | -0.23653548 |\n",
       "| S43 | AC | 160 | -0.16567577 | -0.150328661 | -0.10606828 |  0.17217542 |\n",
       "| S43 | MF |  20 | -0.32891660 | -0.114334660 | -0.26590056 | -0.29017296 |\n",
       "| S43 | MF |  60 | -0.40079378 | -0.483966372 | -0.16650653 |  0.38414819 |\n",
       "| ⋮ | ⋮ | ⋮ | ⋮ | ⋮ | ⋮ | ⋮ |\n",
       "| S69 | AC | 120 | -0.58661876 | -0.2033828 |  1.196099408 |  0.12233886 |\n",
       "| S69 | AC | 160 |  0.17154355 | -0.1389585 |  1.228641317 |  0.60431896 |\n",
       "| S69 | MF |  20 | -0.71132654 |  0.1720141 |  1.283492664 |  0.69265183 |\n",
       "| S69 | MF |  60 | -0.29627881 |  0.3903524 | -0.006148402 | -0.24828678 |\n",
       "| S69 | MF | 120 | -0.42650879 |  1.0001629 |  0.223649613 |  0.18115914 |\n",
       "| S69 | MF | 160 | -0.66283700 | -0.1695089 |  0.864362839 |  0.35372974 |\n",
       "| S70 | AC |  20 | -0.90398871 |  0.2461643 |  0.080741242 |  1.15889057 |\n",
       "| S70 | AC |  60 |  0.13129548 | -0.1527895 | -0.343027628 | -0.06737068 |\n",
       "| S70 | AC | 120 |  0.29404338 |  0.3360099 | -0.366047568 |  0.18866581 |\n",
       "| S70 | AC | 160 | -0.23306832 | -0.2366068 |  0.348103055 |  0.02754843 |\n",
       "| S70 | MF |  20 | -0.14390330 | -0.1170678 | -0.266574430 | -0.28257381 |\n",
       "| S70 | MF |  60 | -0.37258039 | -0.1981451 |  0.933374271 | -0.50190322 |\n",
       "| S70 | MF | 120 | -0.17630599 | -0.1622120 | -0.743800152 | -1.03473445 |\n",
       "| S70 | MF | 160 | -0.10371286 | -0.4842325 | -0.275848446 | -0.63237437 |\n",
       "| S71 | AC |  20 | -0.28434573 | -0.3062553 | -0.054543662 |  0.20874461 |\n",
       "| S71 | AC |  60 |  0.15067927 | -0.4851073 |  0.506788010 |  0.30693002 |\n",
       "| S71 | AC | 120 |  0.58064504 | -0.5017699 | -0.264221923 |  0.06193348 |\n",
       "| S71 | AC | 160 |  0.51166808 | -0.7247022 | -0.151575118 |  0.13438843 |\n",
       "| S71 | MF |  20 | -0.10474319 | -0.4394301 |  0.432920956 | -0.02902913 |\n",
       "| S71 | MF |  60 | -0.37146409 | -0.4794318 | -0.051104347 |  0.03033271 |\n",
       "| S71 | MF | 120 | -0.03839314 | -0.3404778 |  0.324159756 |  0.04940786 |\n",
       "| S71 | MF | 160 | -0.12219891 | -0.3389607 |  0.013078604 |  0.15147480 |\n",
       "| S72 | AC |  20 |  0.02811741 | -0.1774317 |  0.063879308 |  0.17808307 |\n",
       "| S72 | AC |  60 | -0.03401634 | -0.1255549 | -0.524544709 | -0.27546890 |\n",
       "| S72 | AC | 120 | -0.29358784 |  0.1752005 |  0.447782160 |  0.07609455 |\n",
       "| S72 | AC | 160 | -0.22563811 | -0.3583950 | -0.386081331 | -0.51996566 |\n",
       "| S72 | MF |  20 | -0.14571600 | -0.4224414 | -0.268376052 |  0.64898819 |\n",
       "| S72 | MF |  60 | -0.17772250 | -0.1301999 | -0.273425675 | -0.41206446 |\n",
       "| S72 | MF | 120 | -0.35105657 | -0.3504438 |  0.018237335 |  0.44292012 |\n",
       "| S72 | MF | 160 | -0.14081239 | -0.0213603 | -0.622355172 | -0.05901571 |\n",
       "\n"
      ],
      "text/plain": [
       "    id  stim freq dSVV_mean   dSVV_std     dVel_mean    dVel_std   \n",
       "1   S40 AC    20  -0.67500000 -0.228501989 -0.61603339  -0.95462566\n",
       "2   S40 AC    60  -0.03333333 -0.459897420  0.56464154  -0.62838990\n",
       "3   S40 AC   120  -0.05000000 -0.094010186 -0.07464574  -0.49016465\n",
       "4   S40 AC   160  -0.10833333 -0.059064481 -0.31750453  -0.68853187\n",
       "5   S40 MF    20   0.44166667 -0.148514280  0.54194217  -0.35186438\n",
       "6   S40 MF    60  -0.11666667 -0.309639733 -0.26055237  -1.00085964\n",
       "7   S40 MF   120  -0.15000000 -0.148427069  0.05500727  -0.85891456\n",
       "8   S40 MF   160   0.60833333  0.294927567 -0.14950852  -0.32889032\n",
       "9   S41 AC    20   1.04698944  0.352716808  0.06882030  -0.07687681\n",
       "10  S41 AC    60   0.98315300  0.638739755  0.48873198   0.14848450\n",
       "11  S41 AC   120   0.58240355 -0.061267793  0.57639704   0.02863650\n",
       "12  S41 AC   160   0.53257551 -0.123669583 -1.24350895  -0.73422553\n",
       "13  S41 MF    20   0.36381866  0.271143079 -0.07202078  -0.71039872\n",
       "14  S41 MF    60   0.53421136  0.449832522 -0.05788493  -0.44990579\n",
       "15  S41 MF   120   0.63802488  0.104920364  0.49884315  -0.55961692\n",
       "16  S41 MF   160   0.11000554  0.401127702 -0.17262137  -0.19460360\n",
       "17  S42 AC    20  -0.19339089 -0.140311502  0.39571377  -0.24885763\n",
       "18  S42 AC    60   0.49889905 -0.079608252  0.56859590   0.04093962\n",
       "19  S42 AC   120   0.62204684  0.155523114  0.99382233   0.49315714\n",
       "20  S42 AC   160   0.36252268 -0.301857577  0.23912349  -0.36305651\n",
       "21  S42 MF    20   0.21711329  0.079214149 -0.20708880  -0.61399091\n",
       "22  S42 MF    60   0.78971752 -0.148657764 -0.02837724   0.06552794\n",
       "23  S42 MF   120   0.46207905 -0.059257017  0.88514695  -0.29119187\n",
       "24  S42 MF   160  -0.04390189 -0.034960499  0.80317614  -0.39688886\n",
       "25  S43 AC    20  -0.47277120 -0.411895413 -0.80239238   0.09816429\n",
       "26  S43 AC    60  -0.25854407 -0.420355987 -0.40169011   0.14883057\n",
       "27  S43 AC   120  -0.08227356 -0.007258297 -1.16014652  -0.23653548\n",
       "28  S43 AC   160  -0.16567577 -0.150328661 -0.10606828   0.17217542\n",
       "29  S43 MF    20  -0.32891660 -0.114334660 -0.26590056  -0.29017296\n",
       "30  S43 MF    60  -0.40079378 -0.483966372 -0.16650653   0.38414819\n",
       "⋮   ⋮   ⋮    ⋮    ⋮           ⋮            ⋮            ⋮          \n",
       "211 S69 AC   120  -0.58661876 -0.2033828    1.196099408  0.12233886\n",
       "212 S69 AC   160   0.17154355 -0.1389585    1.228641317  0.60431896\n",
       "213 S69 MF    20  -0.71132654  0.1720141    1.283492664  0.69265183\n",
       "214 S69 MF    60  -0.29627881  0.3903524   -0.006148402 -0.24828678\n",
       "215 S69 MF   120  -0.42650879  1.0001629    0.223649613  0.18115914\n",
       "216 S69 MF   160  -0.66283700 -0.1695089    0.864362839  0.35372974\n",
       "217 S70 AC    20  -0.90398871  0.2461643    0.080741242  1.15889057\n",
       "218 S70 AC    60   0.13129548 -0.1527895   -0.343027628 -0.06737068\n",
       "219 S70 AC   120   0.29404338  0.3360099   -0.366047568  0.18866581\n",
       "220 S70 AC   160  -0.23306832 -0.2366068    0.348103055  0.02754843\n",
       "221 S70 MF    20  -0.14390330 -0.1170678   -0.266574430 -0.28257381\n",
       "222 S70 MF    60  -0.37258039 -0.1981451    0.933374271 -0.50190322\n",
       "223 S70 MF   120  -0.17630599 -0.1622120   -0.743800152 -1.03473445\n",
       "224 S70 MF   160  -0.10371286 -0.4842325   -0.275848446 -0.63237437\n",
       "225 S71 AC    20  -0.28434573 -0.3062553   -0.054543662  0.20874461\n",
       "226 S71 AC    60   0.15067927 -0.4851073    0.506788010  0.30693002\n",
       "227 S71 AC   120   0.58064504 -0.5017699   -0.264221923  0.06193348\n",
       "228 S71 AC   160   0.51166808 -0.7247022   -0.151575118  0.13438843\n",
       "229 S71 MF    20  -0.10474319 -0.4394301    0.432920956 -0.02902913\n",
       "230 S71 MF    60  -0.37146409 -0.4794318   -0.051104347  0.03033271\n",
       "231 S71 MF   120  -0.03839314 -0.3404778    0.324159756  0.04940786\n",
       "232 S71 MF   160  -0.12219891 -0.3389607    0.013078604  0.15147480\n",
       "233 S72 AC    20   0.02811741 -0.1774317    0.063879308  0.17808307\n",
       "234 S72 AC    60  -0.03401634 -0.1255549   -0.524544709 -0.27546890\n",
       "235 S72 AC   120  -0.29358784  0.1752005    0.447782160  0.07609455\n",
       "236 S72 AC   160  -0.22563811 -0.3583950   -0.386081331 -0.51996566\n",
       "237 S72 MF    20  -0.14571600 -0.4224414   -0.268376052  0.64898819\n",
       "238 S72 MF    60  -0.17772250 -0.1301999   -0.273425675 -0.41206446\n",
       "239 S72 MF   120  -0.35105657 -0.3504438    0.018237335  0.44292012\n",
       "240 S72 MF   160  -0.14081239 -0.0213603   -0.622355172 -0.05901571"
      ]
     },
     "metadata": {},
     "output_type": "display_data"
    }
   ],
   "source": [
    "data <- read.csv(file = 'TableRes_delta.csv')\n",
    "data"
   ]
  },
  {
   "cell_type": "markdown",
   "metadata": {},
   "source": [
    "___\n",
    "# __ANOVA__ repeated measure"
   ]
  },
  {
   "cell_type": "markdown",
   "metadata": {},
   "source": [
    "## __1. delta SVV__"
   ]
  },
  {
   "cell_type": "markdown",
   "metadata": {},
   "source": [
    "### normality"
   ]
  },
  {
   "cell_type": "code",
   "execution_count": 54,
   "metadata": {},
   "outputs": [
    {
     "data": {
      "text/plain": [
       "\n",
       "\tShapiro-Wilk normality test\n",
       "\n",
       "data:  data$dSVV_mean\n",
       "W = 0.98471, p-value = 0.01115\n"
      ]
     },
     "metadata": {},
     "output_type": "display_data"
    }
   ],
   "source": [
    "shapiro.test(data$dSVV_mean)"
   ]
  },
  {
   "cell_type": "code",
   "execution_count": 119,
   "metadata": {},
   "outputs": [
    {
     "data": {
      "image/png": "[encoded data removed]",
      "text/plain": [
       "plot without title"
      ]
     },
     "metadata": {},
     "output_type": "display_data"
    }
   ],
   "source": [
    "ggplot(data, aes(x=dSVV_mean)) +\n",
    "    geom_density(color = 'blue', fill='red', alpha=0.5) +\n",
    "    stat_function(fun = dnorm, args = list(mean = mean(data$dSVV_mean), sd = sd(data$dSVV_mean)), size=0.5, linetype='dashed')"
   ]
  },
  {
   "cell_type": "code",
   "execution_count": 145,
   "metadata": {},
   "outputs": [
    {
     "data": {
      "image/png": "[encoded data removed]",
      "text/plain": [
       "plot without title"
      ]
     },
     "metadata": {},
     "output_type": "display_data"
    }
   ],
   "source": [
    "data$transform <- log10(data$dSVV_mean+100)\n",
    "ggplot(data, aes(x=transform)) +\n",
    "    geom_density(color = 'blue', fill='blue', alpha=0.5) +\n",
    "    stat_function(fun = dnorm, args = list(mean = mean(data$transform), sd = sd(data$transform)), size=0.5, linetype='dashed')"
   ]
  },
  {
   "cell_type": "code",
   "execution_count": 146,
   "metadata": {},
   "outputs": [
    {
     "data": {
      "text/plain": [
       "\n",
       "\tShapiro-Wilk normality test\n",
       "\n",
       "data:  data$transform\n",
       "W = 0.98492, p-value = 0.01213\n"
      ]
     },
     "metadata": {},
     "output_type": "display_data"
    }
   ],
   "source": [
    "shapiro.test(data$transform)"
   ]
  },
  {
   "cell_type": "code",
   "execution_count": 110,
   "metadata": {},
   "outputs": [
    {
     "ename": "ERROR",
     "evalue": "Error in library(moments): there is no package called ‘moments’\n",
     "output_type": "error",
     "traceback": [
      "Error in library(moments): there is no package called ‘moments’\nTraceback:\n",
      "1. library(moments)"
     ]
    }
   ],
   "source": []
  },
  {
   "cell_type": "markdown",
   "metadata": {},
   "source": [
    "### ANOVA"
   ]
  },
  {
   "cell_type": "code",
   "execution_count": 12,
   "metadata": {},
   "outputs": [
    {
     "data": {
      "text/html": [
       "<table>\n",
       "<caption>A nice_table: 3 × 6</caption>\n",
       "<thead>\n",
       "\t<tr><th scope=col>Effect</th><th scope=col>df</th><th scope=col>MSE</th><th scope=col>F</th><th scope=col>ges</th><th scope=col>p.value</th></tr>\n",
       "\t<tr><th scope=col>&lt;chr&gt;</th><th scope=col>&lt;chr&gt;</th><th scope=col>&lt;chr&gt;</th><th scope=col>&lt;chr&gt;</th><th scope=col>&lt;chr&gt;</th><th scope=col>&lt;chr&gt;</th></tr>\n",
       "</thead>\n",
       "<tbody>\n",
       "\t<tr><td>stim     </td><td>1, 29      </td><td>0.28</td><td>0.60</td><td>.003</td><td>.45</td></tr>\n",
       "\t<tr><td>freq     </td><td>2.56, 74.22</td><td>0.16</td><td>1.97</td><td>.01 </td><td>.13</td></tr>\n",
       "\t<tr><td>stim:freq</td><td>2.41, 69.87</td><td>0.20</td><td>1.87</td><td>.01 </td><td>.15</td></tr>\n",
       "</tbody>\n",
       "</table>\n"
      ],
      "text/latex": [
       "A nice\\_table: 3 × 6\n",
       "\\begin{tabular}{llllll}\n",
       " Effect & df & MSE & F & ges & p.value\\\\\n",
       " <chr> & <chr> & <chr> & <chr> & <chr> & <chr>\\\\\n",
       "\\hline\n",
       "\t stim      & 1, 29       & 0.28 & 0.60 & .003 & .45\\\\\n",
       "\t freq      & 2.56, 74.22 & 0.16 & 1.97 & .01  & .13\\\\\n",
       "\t stim:freq & 2.41, 69.87 & 0.20 & 1.87 & .01  & .15\\\\\n",
       "\\end{tabular}\n"
      ],
      "text/markdown": [
       "\n",
       "A nice_table: 3 × 6\n",
       "\n",
       "| Effect &lt;chr&gt; | df &lt;chr&gt; | MSE &lt;chr&gt; | F &lt;chr&gt; | ges &lt;chr&gt; | p.value &lt;chr&gt; |\n",
       "|---|---|---|---|---|---|\n",
       "| stim      | 1, 29       | 0.28 | 0.60 | .003 | .45 |\n",
       "| freq      | 2.56, 74.22 | 0.16 | 1.97 | .01  | .13 |\n",
       "| stim:freq | 2.41, 69.87 | 0.20 | 1.87 | .01  | .15 |\n",
       "\n"
      ],
      "text/plain": [
       "  Effect    df          MSE  F    ges  p.value\n",
       "1 stim      1, 29       0.28 0.60 .003 .45    \n",
       "2 freq      2.56, 74.22 0.16 1.97 .01  .13    \n",
       "3 stim:freq 2.41, 69.87 0.20 1.87 .01  .15    "
      ]
     },
     "metadata": {},
     "output_type": "display_data"
    }
   ],
   "source": [
    "RM_aov_SVV = aov_ez(id = 'id', \n",
    "                dv = 'dSVV_mean', \n",
    "                data = data, \n",
    "                within = c('stim', 'freq')\n",
    "               )\n",
    "nice(RM_aov_SVV)"
   ]
  },
  {
   "cell_type": "code",
   "execution_count": 13,
   "metadata": {},
   "outputs": [
    {
     "data": {
      "text/plain": [
       "\n",
       "Univariate Type III Repeated-Measures ANOVA Assuming Sphericity\n",
       "\n",
       "             Sum Sq num Df Error SS den Df F value Pr(>F)\n",
       "(Intercept) 1.37264      1  30.6654     29  1.2981 0.2639\n",
       "stim        0.16567      1   8.0149     29  0.5994 0.4451\n",
       "freq        0.82149      3  12.0887     87  1.9707 0.1243\n",
       "stim:freq   0.88992      3  13.7925     87  1.8711 0.1404\n",
       "\n",
       "\n",
       "Mauchly Tests for Sphericity\n",
       "\n",
       "          Test statistic  p-value\n",
       "freq             0.72016 0.105335\n",
       "stim:freq        0.68396 0.061695\n",
       "\n",
       "\n",
       "Greenhouse-Geisser and Huynh-Feldt Corrections\n",
       " for Departure from Sphericity\n",
       "\n",
       "           GG eps Pr(>F[GG])\n",
       "freq      0.85310     0.1346\n",
       "stim:freq 0.80306     0.1537\n",
       "\n",
       "             HF eps Pr(>F[HF])\n",
       "freq      0.9427213  0.1282462\n",
       "stim:freq 0.8809424  0.1483251"
      ]
     },
     "metadata": {},
     "output_type": "display_data"
    }
   ],
   "source": [
    "summary(RM_aov_SVV)"
   ]
  },
  {
   "cell_type": "markdown",
   "metadata": {},
   "source": [
    "---\n",
    "## __2. delta Adjustment Velocity__"
   ]
  },
  {
   "cell_type": "code",
   "execution_count": 148,
   "metadata": {},
   "outputs": [
    {
     "data": {
      "text/plain": [
       "\n",
       "\tShapiro-Wilk normality test\n",
       "\n",
       "data:  data$dVel_mean\n",
       "W = 0.93298, p-value = 5.448e-09\n"
      ]
     },
     "metadata": {},
     "output_type": "display_data"
    }
   ],
   "source": [
    "shapiro.test(data$dVel_mean)"
   ]
  },
  {
   "cell_type": "code",
   "execution_count": 180,
   "metadata": {},
   "outputs": [
    {
     "data": {
      "image/png": "[encoded data removed]",
      "text/plain": [
       "plot without title"
      ]
     },
     "metadata": {},
     "output_type": "display_data"
    }
   ],
   "source": [
    "\n",
    "ggplot(data, aes(x=dVel_mean, fill=stim)) +\n",
    "    geom_density(alpha=0.5) +\n",
    "    stat_function(fun = dnorm, args = list(mean = mean(data$dVel_mean), sd = sd(data$dVel_mean)), size=0.5, linetype='dashed') +\n",
    "    labs(fill='stim') +\n",
    "    scale_fill_manual(values=c(\"blue\",\"orangered\"))"
   ]
  },
  {
   "cell_type": "code",
   "execution_count": 14,
   "metadata": {},
   "outputs": [
    {
     "data": {
      "text/html": [
       "<table>\n",
       "<caption>A nice_table: 3 × 6</caption>\n",
       "<thead>\n",
       "\t<tr><th scope=col>Effect</th><th scope=col>df</th><th scope=col>MSE</th><th scope=col>F</th><th scope=col>ges</th><th scope=col>p.value</th></tr>\n",
       "\t<tr><th scope=col>&lt;chr&gt;</th><th scope=col>&lt;chr&gt;</th><th scope=col>&lt;chr&gt;</th><th scope=col>&lt;chr&gt;</th><th scope=col>&lt;chr&gt;</th><th scope=col>&lt;chr&gt;</th></tr>\n",
       "</thead>\n",
       "<tbody>\n",
       "\t<tr><td>stim     </td><td>1, 29      </td><td>0.62</td><td>9.04 **</td><td>.02 </td><td>.005</td></tr>\n",
       "\t<tr><td>freq     </td><td>2.74, 79.52</td><td>0.41</td><td>1.70   </td><td>.008</td><td>.18 </td></tr>\n",
       "\t<tr><td>stim:freq</td><td>2.91, 84.44</td><td>0.41</td><td>0.28   </td><td>.001</td><td>.84 </td></tr>\n",
       "</tbody>\n",
       "</table>\n"
      ],
      "text/latex": [
       "A nice\\_table: 3 × 6\n",
       "\\begin{tabular}{llllll}\n",
       " Effect & df & MSE & F & ges & p.value\\\\\n",
       " <chr> & <chr> & <chr> & <chr> & <chr> & <chr>\\\\\n",
       "\\hline\n",
       "\t stim      & 1, 29       & 0.62 & 9.04 ** & .02  & .005\\\\\n",
       "\t freq      & 2.74, 79.52 & 0.41 & 1.70    & .008 & .18 \\\\\n",
       "\t stim:freq & 2.91, 84.44 & 0.41 & 0.28    & .001 & .84 \\\\\n",
       "\\end{tabular}\n"
      ],
      "text/markdown": [
       "\n",
       "A nice_table: 3 × 6\n",
       "\n",
       "| Effect &lt;chr&gt; | df &lt;chr&gt; | MSE &lt;chr&gt; | F &lt;chr&gt; | ges &lt;chr&gt; | p.value &lt;chr&gt; |\n",
       "|---|---|---|---|---|---|\n",
       "| stim      | 1, 29       | 0.62 | 9.04 ** | .02  | .005 |\n",
       "| freq      | 2.74, 79.52 | 0.41 | 1.70    | .008 | .18  |\n",
       "| stim:freq | 2.91, 84.44 | 0.41 | 0.28    | .001 | .84  |\n",
       "\n"
      ],
      "text/plain": [
       "  Effect    df          MSE  F       ges  p.value\n",
       "1 stim      1, 29       0.62 9.04 ** .02  .005   \n",
       "2 freq      2.74, 79.52 0.41 1.70    .008 .18    \n",
       "3 stim:freq 2.91, 84.44 0.41 0.28    .001 .84    "
      ]
     },
     "metadata": {},
     "output_type": "display_data"
    }
   ],
   "source": [
    "Vel_aov_RT = aov_ez(id = 'id', \n",
    "                dv = 'dVel_mean', \n",
    "                data = data, \n",
    "                within = c('stim', 'freq')\n",
    "               )\n",
    "nice(Vel_aov_RT)"
   ]
  },
  {
   "cell_type": "code",
   "execution_count": 15,
   "metadata": {},
   "outputs": [
    {
     "name": "stderr",
     "output_type": "stream",
     "text": [
      "Warning message in summary.Anova.mlm(object$Anova, multivariate = FALSE):\n",
      "“HF eps > 1 treated as 1”"
     ]
    },
    {
     "data": {
      "text/plain": [
       "\n",
       "Univariate Type III Repeated-Measures ANOVA Assuming Sphericity\n",
       "\n",
       "             Sum Sq num Df Error SS den Df F value   Pr(>F)   \n",
       "(Intercept) 21.9453      1  147.050     29  4.3279 0.046436 * \n",
       "stim         5.5762      1   17.885     29  9.0418 0.005405 **\n",
       "freq         1.8979      3   32.349     87  1.7014 0.172648   \n",
       "stim:freq    0.3280      3   34.540     87  0.2754 0.842982   \n",
       "---\n",
       "Signif. codes:  0 ‘***’ 0.001 ‘**’ 0.01 ‘*’ 0.05 ‘.’ 0.1 ‘ ’ 1\n",
       "\n",
       "\n",
       "Mauchly Tests for Sphericity\n",
       "\n",
       "          Test statistic p-value\n",
       "freq             0.84259 0.44767\n",
       "stim:freq        0.95172 0.92741\n",
       "\n",
       "\n",
       "Greenhouse-Geisser and Huynh-Feldt Corrections\n",
       " for Departure from Sphericity\n",
       "\n",
       "           GG eps Pr(>F[GG])\n",
       "freq      0.91407     0.1775\n",
       "stim:freq 0.97056     0.8373\n",
       "\n",
       "            HF eps Pr(>F[HF])\n",
       "freq      1.018955  0.1726478\n",
       "stim:freq 1.090528  0.8429817"
      ]
     },
     "metadata": {},
     "output_type": "display_data"
    }
   ],
   "source": [
    "summary(Vel_aov_RT)"
   ]
  },
  {
   "cell_type": "markdown",
   "metadata": {},
   "source": [
    "___\n",
    "## __3. delta SVV Std__"
   ]
  },
  {
   "cell_type": "code",
   "execution_count": 48,
   "metadata": {},
   "outputs": [
    {
     "data": {
      "text/plain": [
       "\n",
       "\tShapiro-Wilk normality test\n",
       "\n",
       "data:  data$dSVV_std\n",
       "W = 0.98778, p-value = 0.03879\n"
      ]
     },
     "metadata": {},
     "output_type": "display_data"
    }
   ],
   "source": [
    "shapiro.test(data$dSVV_std)"
   ]
  },
  {
   "cell_type": "code",
   "execution_count": 149,
   "metadata": {},
   "outputs": [
    {
     "data": {
      "image/png": "[encoded data removed]",
      "text/plain": [
       "plot without title"
      ]
     },
     "metadata": {},
     "output_type": "display_data"
    }
   ],
   "source": [
    "ggplot(data, aes(x=dSVV_std)) +\n",
    "    geom_density(color = 'blue', fill='red', alpha=0.5) +\n",
    "    stat_function(fun = dnorm, args = list(mean = mean(data$dSVV_std), sd = sd(data$dSVV_std)), size=0.5, linetype='dashed')"
   ]
  },
  {
   "cell_type": "code",
   "execution_count": 16,
   "metadata": {},
   "outputs": [
    {
     "data": {
      "text/html": [
       "<table>\n",
       "<caption>A nice_table: 3 × 6</caption>\n",
       "<thead>\n",
       "\t<tr><th scope=col>Effect</th><th scope=col>df</th><th scope=col>MSE</th><th scope=col>F</th><th scope=col>ges</th><th scope=col>p.value</th></tr>\n",
       "\t<tr><th scope=col>&lt;chr&gt;</th><th scope=col>&lt;chr&gt;</th><th scope=col>&lt;chr&gt;</th><th scope=col>&lt;chr&gt;</th><th scope=col>&lt;chr&gt;</th><th scope=col>&lt;chr&gt;</th></tr>\n",
       "</thead>\n",
       "<tbody>\n",
       "\t<tr><td>stim     </td><td>1, 29</td><td>0.07</td><td>7.86 **</td><td>.02 </td><td>.009</td></tr>\n",
       "\t<tr><td>freq     </td><td>3, 87</td><td>0.10</td><td>0.31   </td><td>.003</td><td>.82 </td></tr>\n",
       "\t<tr><td>stim:freq</td><td>3, 87</td><td>0.07</td><td>0.76   </td><td>.005</td><td>.52 </td></tr>\n",
       "</tbody>\n",
       "</table>\n"
      ],
      "text/latex": [
       "A nice\\_table: 3 × 6\n",
       "\\begin{tabular}{llllll}\n",
       " Effect & df & MSE & F & ges & p.value\\\\\n",
       " <chr> & <chr> & <chr> & <chr> & <chr> & <chr>\\\\\n",
       "\\hline\n",
       "\t stim      & 1, 29 & 0.07 & 7.86 ** & .02  & .009\\\\\n",
       "\t freq      & 3, 87 & 0.10 & 0.31    & .003 & .82 \\\\\n",
       "\t stim:freq & 3, 87 & 0.07 & 0.76    & .005 & .52 \\\\\n",
       "\\end{tabular}\n"
      ],
      "text/markdown": [
       "\n",
       "A nice_table: 3 × 6\n",
       "\n",
       "| Effect &lt;chr&gt; | df &lt;chr&gt; | MSE &lt;chr&gt; | F &lt;chr&gt; | ges &lt;chr&gt; | p.value &lt;chr&gt; |\n",
       "|---|---|---|---|---|---|\n",
       "| stim      | 1, 29 | 0.07 | 7.86 ** | .02  | .009 |\n",
       "| freq      | 3, 87 | 0.10 | 0.31    | .003 | .82  |\n",
       "| stim:freq | 3, 87 | 0.07 | 0.76    | .005 | .52  |\n",
       "\n"
      ],
      "text/plain": [
       "  Effect    df    MSE  F       ges  p.value\n",
       "1 stim      1, 29 0.07 7.86 ** .02  .009   \n",
       "2 freq      3, 87 0.10 0.31    .003 .82    \n",
       "3 stim:freq 3, 87 0.07 0.76    .005 .52    "
      ]
     },
     "metadata": {},
     "output_type": "display_data"
    }
   ],
   "source": [
    "RM_aov_stdSVV = aov_ez(id = 'id', \n",
    "                dv = 'dSVV_std', \n",
    "                data = data, \n",
    "                within = c('stim', 'freq'),\n",
    "                anova_table = list(correction = \"none\", es = \"ges\")\n",
    "               )\n",
    "nice(RM_aov_stdSVV)"
   ]
  },
  {
   "cell_type": "code",
   "execution_count": 17,
   "metadata": {},
   "outputs": [
    {
     "name": "stderr",
     "output_type": "stream",
     "text": [
      "Warning message in summary.Anova.mlm(object$Anova, multivariate = FALSE):\n",
      "“HF eps > 1 treated as 1”"
     ]
    },
    {
     "data": {
      "text/plain": [
       "\n",
       "Univariate Type III Repeated-Measures ANOVA Assuming Sphericity\n",
       "\n",
       "             Sum Sq num Df Error SS den Df F value   Pr(>F)   \n",
       "(Intercept) 0.00861      1  19.5475     29  0.0128 0.910783   \n",
       "stim        0.58360      1   2.1536     29  7.8587 0.008926 **\n",
       "freq        0.09287      3   8.6136     87  0.3127 0.816176   \n",
       "stim:freq   0.16836      3   6.4158     87  0.7610 0.518993   \n",
       "---\n",
       "Signif. codes:  0 ‘***’ 0.001 ‘**’ 0.01 ‘*’ 0.05 ‘.’ 0.1 ‘ ’ 1\n",
       "\n",
       "\n",
       "Mauchly Tests for Sphericity\n",
       "\n",
       "          Test statistic p-value\n",
       "freq             0.69808 0.07645\n",
       "stim:freq        0.89287 0.67840\n",
       "\n",
       "\n",
       "Greenhouse-Geisser and Huynh-Feldt Corrections\n",
       " for Departure from Sphericity\n",
       "\n",
       "           GG eps Pr(>F[GG])\n",
       "freq      0.80740     0.7731\n",
       "stim:freq 0.92697     0.5102\n",
       "\n",
       "            HF eps Pr(>F[HF])\n",
       "freq      0.886273  0.7922058\n",
       "stim:freq 1.035211  0.5189935"
      ]
     },
     "metadata": {},
     "output_type": "display_data"
    }
   ],
   "source": [
    "summary(RM_aov_stdSVV)"
   ]
  },
  {
   "cell_type": "markdown",
   "metadata": {},
   "source": [
    "___\n",
    "## __4. delta Adj. Velocity Std__\n"
   ]
  },
  {
   "cell_type": "code",
   "execution_count": 11,
   "metadata": {},
   "outputs": [
    {
     "data": {
      "text/html": [
       "<table>\n",
       "<caption>A nice_table: 3 × 6</caption>\n",
       "<thead>\n",
       "\t<tr><th scope=col>Effect</th><th scope=col>df</th><th scope=col>MSE</th><th scope=col>F</th><th scope=col>ges</th><th scope=col>p.value</th></tr>\n",
       "\t<tr><th scope=col>&lt;chr&gt;</th><th scope=col>&lt;chr&gt;</th><th scope=col>&lt;chr&gt;</th><th scope=col>&lt;chr&gt;</th><th scope=col>&lt;chr&gt;</th><th scope=col>&lt;chr&gt;</th></tr>\n",
       "</thead>\n",
       "<tbody>\n",
       "\t<tr><td>stim     </td><td>1, 29</td><td>0.31</td><td>0.29</td><td>.001</td><td>.59</td></tr>\n",
       "\t<tr><td>freq     </td><td>3, 87</td><td>0.24</td><td>1.25</td><td>.01 </td><td>.30</td></tr>\n",
       "\t<tr><td>stim:freq</td><td>3, 87</td><td>0.15</td><td>0.65</td><td>.004</td><td>.59</td></tr>\n",
       "</tbody>\n",
       "</table>\n"
      ],
      "text/latex": [
       "A nice\\_table: 3 × 6\n",
       "\\begin{tabular}{llllll}\n",
       " Effect & df & MSE & F & ges & p.value\\\\\n",
       " <chr> & <chr> & <chr> & <chr> & <chr> & <chr>\\\\\n",
       "\\hline\n",
       "\t stim      & 1, 29 & 0.31 & 0.29 & .001 & .59\\\\\n",
       "\t freq      & 3, 87 & 0.24 & 1.25 & .01  & .30\\\\\n",
       "\t stim:freq & 3, 87 & 0.15 & 0.65 & .004 & .59\\\\\n",
       "\\end{tabular}\n"
      ],
      "text/markdown": [
       "\n",
       "A nice_table: 3 × 6\n",
       "\n",
       "| Effect &lt;chr&gt; | df &lt;chr&gt; | MSE &lt;chr&gt; | F &lt;chr&gt; | ges &lt;chr&gt; | p.value &lt;chr&gt; |\n",
       "|---|---|---|---|---|---|\n",
       "| stim      | 1, 29 | 0.31 | 0.29 | .001 | .59 |\n",
       "| freq      | 3, 87 | 0.24 | 1.25 | .01  | .30 |\n",
       "| stim:freq | 3, 87 | 0.15 | 0.65 | .004 | .59 |\n",
       "\n"
      ],
      "text/plain": [
       "  Effect    df    MSE  F    ges  p.value\n",
       "1 stim      1, 29 0.31 0.29 .001 .59    \n",
       "2 freq      3, 87 0.24 1.25 .01  .30    \n",
       "3 stim:freq 3, 87 0.15 0.65 .004 .59    "
      ]
     },
     "metadata": {},
     "output_type": "display_data"
    }
   ],
   "source": [
    "RM_aov_stdVel = aov_ez(id = 'id', \n",
    "                dv = 'dVel_std', \n",
    "                data = data, \n",
    "                within = c('stim', 'freq'),\n",
    "                anova_table = list(correction = \"none\", es = \"ges\")\n",
    "               )\n",
    "nice(RM_aov_stdVel)"
   ]
  },
  {
   "cell_type": "markdown",
   "metadata": {},
   "source": [
    "# __POST-HOC__"
   ]
  },
  {
   "cell_type": "code",
   "execution_count": 20,
   "metadata": {},
   "outputs": [
    {
     "name": "stderr",
     "output_type": "stream",
     "text": [
      "NOTE: Results may be misleading due to involvement in interactions\n"
     ]
    },
    {
     "data": {
      "text/plain": [
       " stim  emmean     SE   df lower.CL upper.CL\n",
       " AC   -0.0553 0.0558 35.3   -0.169    0.058\n",
       " MF    0.0433 0.0558 35.3   -0.070    0.157\n",
       "\n",
       "Results are averaged over the levels of: freq \n",
       "Warning: EMMs are biased unless design is perfectly balanced \n",
       "Confidence level used: 0.95 "
      ]
     },
     "metadata": {},
     "output_type": "display_data"
    }
   ],
   "source": [
    "m1 <- emmeans(RM_aov_stdSVV, ~ stim)\n",
    "m1"
   ]
  },
  {
   "cell_type": "code",
   "execution_count": 24,
   "metadata": {},
   "outputs": [
    {
     "data": {
      "text/plain": [
       "R version 3.6.0 (2019-04-26)\n",
       "Platform: x86_64-apple-darwin13.4.0 (64-bit)\n",
       "Running under: macOS  10.15.6\n",
       "\n",
       "Matrix products: default\n",
       "BLAS/LAPACK: /Users/sebastienvillard/anaconda3/lib/R/lib/libRblas.dylib\n",
       "\n",
       "locale:\n",
       "[1] en_US.UTF-8/en_US.UTF-8/en_US.UTF-8/C/en_US.UTF-8/en_US.UTF-8\n",
       "\n",
       "attached base packages:\n",
       "[1] stats     graphics  grDevices utils     datasets  methods   base     \n",
       "\n",
       "other attached packages:\n",
       "[1] ggplot2_3.2.1 emmeans_1.4.4 afex_0.26-0   lme4_1.1-21   Matrix_1.2-18\n",
       "\n",
       "loaded via a namespace (and not attached):\n",
       " [1] Rcpp_1.0.3          mvtnorm_1.1-0       lattice_0.20-40    \n",
       " [4] zoo_1.8-8           digest_0.6.23       IRdisplay_0.7.0    \n",
       " [7] R6_2.4.1            cellranger_1.1.0    plyr_1.8.5         \n",
       "[10] repr_1.1.0          evaluate_0.14       pillar_1.4.3       \n",
       "[13] rlang_0.4.6         lazyeval_0.2.2      curl_4.3           \n",
       "[16] multcomp_1.4-13     uuid_0.1-2          readxl_1.3.1       \n",
       "[19] minqa_1.2.4         data.table_1.12.8   car_3.0-6          \n",
       "[22] nloptr_1.2.1        splines_3.6.0       stringr_1.4.0      \n",
       "[25] foreign_0.8-75      munsell_0.5.0       compiler_3.6.0     \n",
       "[28] numDeriv_2016.8-1.1 pkgconfig_2.0.3     base64enc_0.1-3    \n",
       "[31] lmerTest_3.1-1      htmltools_0.4.0     tidyselect_1.1.0   \n",
       "[34] tibble_3.0.1        codetools_0.2-16    rio_0.5.16         \n",
       "[37] withr_2.1.2         crayon_1.3.4        dplyr_1.0.0        \n",
       "[40] MASS_7.3-51.5       grid_3.6.0          nlme_3.1-144       \n",
       "[43] jsonlite_1.6.1      xtable_1.8-4        gtable_0.3.0       \n",
       "[46] lifecycle_0.2.0     magrittr_1.5        scales_1.1.0       \n",
       "[49] zip_2.0.4           estimability_1.3    stringi_1.4.6      \n",
       "[52] carData_3.0-3       reshape2_1.4.3      ellipsis_0.3.0     \n",
       "[55] generics_0.0.2      vctrs_0.3.1         sandwich_2.5-1     \n",
       "[58] boot_1.3-24         openxlsx_4.1.4      IRkernel_0.8.15    \n",
       "[61] TH.data_1.0-10      tools_3.6.0         forcats_0.4.0      \n",
       "[64] glue_1.4.1          purrr_0.3.3         hms_0.5.3          \n",
       "[67] survival_3.1-12     abind_1.4-5         parallel_3.6.0     \n",
       "[70] colorspace_1.4-1    pbdZMQ_0.3-3        haven_2.2.0        "
      ]
     },
     "metadata": {},
     "output_type": "display_data"
    }
   ],
   "source": [
    "sessionInfo()"
   ]
  },
  {
   "cell_type": "markdown",
   "metadata": {},
   "source": [
    "___\n",
    "# __Non parametric ANOVA with repeated measure__\n",
    "Find ```ARTool``` info [there](http://depts.washington.edu/acelab/proj/art/index.html)"
   ]
  },
  {
   "cell_type": "code",
   "execution_count": 183,
   "metadata": {},
   "outputs": [],
   "source": [
    "library(ARTool)"
   ]
  },
  {
   "cell_type": "code",
   "execution_count": 186,
   "metadata": {},
   "outputs": [
    {
     "data": {
      "text/plain": [
       "       id      stim          freq       dSVV_mean           dSVV_std       \n",
       " S40    :  8   AC:120   Min.   : 20   Min.   :-1.94863   Min.   :-1.17041  \n",
       " S41    :  8   MF:120   1st Qu.: 50   1st Qu.:-0.40239   1st Qu.:-0.24056  \n",
       " S42    :  8            Median : 90   Median :-0.11943   Median :-0.04356  \n",
       " S43    :  8            Mean   : 90   Mean   :-0.07563   Mean   :-0.00599  \n",
       " S44    :  8            3rd Qu.:130   3rd Qu.: 0.28615   3rd Qu.: 0.25262  \n",
       " S48    :  8            Max.   :160   Max.   : 1.84164   Max.   : 1.46478  \n",
       " (Other):192                                                               \n",
       "   dVel_mean          dVel_std           transform    \n",
       " Min.   :-1.6199   Min.   :-1.193874   Min.   :1.991  \n",
       " 1st Qu.:-0.2731   1st Qu.:-0.376738   1st Qu.:1.998  \n",
       " Median : 0.1587   Median :-0.025681   Median :1.999  \n",
       " Mean   : 0.3024   Mean   :-0.003079   Mean   :2.000  \n",
       " 3rd Qu.: 0.7143   3rd Qu.: 0.242248   3rd Qu.:2.001  \n",
       " Max.   : 4.2659   Max.   : 2.111908   Max.   :2.008  \n",
       "                                                      "
      ]
     },
     "metadata": {},
     "output_type": "display_data"
    }
   ],
   "source": [
    "summary(data)"
   ]
  },
  {
   "cell_type": "code",
   "execution_count": 192,
   "metadata": {},
   "outputs": [
    {
     "data": {
      "text/html": [
       "<table>\n",
       "<caption>A anova.art: 3 × 5</caption>\n",
       "<thead>\n",
       "\t<tr><th></th><th scope=col>Term</th><th scope=col>F</th><th scope=col>Df</th><th scope=col>Df.res</th><th scope=col>Pr(&gt;F)</th></tr>\n",
       "\t<tr><th></th><th scope=col>&lt;fct&gt;</th><th scope=col>&lt;dbl&gt;</th><th scope=col>&lt;dbl&gt;</th><th scope=col>&lt;dbl&gt;</th><th scope=col>&lt;dbl&gt;</th></tr>\n",
       "</thead>\n",
       "<tbody>\n",
       "\t<tr><th scope=row>stim</th><td>stim     </td><td>1.261806</td><td>1</td><td>203</td><td>0.26263614</td></tr>\n",
       "\t<tr><th scope=row>freq</th><td>freq     </td><td>3.026075</td><td>3</td><td>203</td><td>0.03061096</td></tr>\n",
       "\t<tr><th scope=row>stim:freq</th><td>stim:freq</td><td>1.887908</td><td>3</td><td>203</td><td>0.13278676</td></tr>\n",
       "</tbody>\n",
       "</table>\n"
      ],
      "text/latex": [
       "A anova.art: 3 × 5\n",
       "\\begin{tabular}{r|lllll}\n",
       "  & Term & F & Df & Df.res & Pr(>F)\\\\\n",
       "  & <fct> & <dbl> & <dbl> & <dbl> & <dbl>\\\\\n",
       "\\hline\n",
       "\tstim & stim      & 1.261806 & 1 & 203 & 0.26263614\\\\\n",
       "\tfreq & freq      & 3.026075 & 3 & 203 & 0.03061096\\\\\n",
       "\tstim:freq & stim:freq & 1.887908 & 3 & 203 & 0.13278676\\\\\n",
       "\\end{tabular}\n"
      ],
      "text/markdown": [
       "\n",
       "A anova.art: 3 × 5\n",
       "\n",
       "| <!--/--> | Term &lt;fct&gt; | F &lt;dbl&gt; | Df &lt;dbl&gt; | Df.res &lt;dbl&gt; | Pr(&gt;F) &lt;dbl&gt; |\n",
       "|---|---|---|---|---|---|\n",
       "| stim | stim      | 1.261806 | 1 | 203 | 0.26263614 |\n",
       "| freq | freq      | 3.026075 | 3 | 203 | 0.03061096 |\n",
       "| stim:freq | stim:freq | 1.887908 | 3 | 203 | 0.13278676 |\n",
       "\n"
      ],
      "text/plain": [
       "          Term      F        Df Df.res Pr(>F)    \n",
       "stim      stim      1.261806 1  203    0.26263614\n",
       "freq      freq      3.026075 3  203    0.03061096\n",
       "stim:freq stim:freq 1.887908 3  203    0.13278676"
      ]
     },
     "metadata": {},
     "output_type": "display_data"
    }
   ],
   "source": [
    "m = art(data = data, formula = dSVV_mean ~ stim * freq + (1|id))\n",
    "anova(m)"
   ]
  },
  {
   "cell_type": "code",
   "execution_count": 189,
   "metadata": {},
   "outputs": [],
   "source": [
    "data$stim = as.factor(data$stim)\n",
    "data$freq = as.factor(data$freq)"
   ]
  },
  {
   "cell_type": "code",
   "execution_count": 193,
   "metadata": {},
   "outputs": [
    {
     "name": "stderr",
     "output_type": "stream",
     "text": [
      "NOTE: Results may be misleading due to involvement in interactions\n"
     ]
    },
    {
     "data": {
      "text/plain": [
       "$emmeans\n",
       " freq emmean   SE   df lower.CL upper.CL\n",
       " 20      108 10.8 56.6     86.6      130\n",
       " 60      113 10.8 56.6     91.8      135\n",
       " 120     127 10.8 56.6    105.4      149\n",
       " 160     133 10.8 56.6    111.9      155\n",
       "\n",
       "Results are averaged over the levels of: stim \n",
       "Degrees-of-freedom method: kenward-roger \n",
       "Confidence level used: 0.95 \n",
       "\n",
       "$contrasts\n",
       " contrast  estimate   SE  df t.ratio p.value\n",
       " 20 - 60      -5.28 9.53 203 -0.555  0.9452 \n",
       " 20 - 120    -18.82 9.53 203 -1.975  0.2008 \n",
       " 20 - 160    -25.30 9.53 203 -2.656  0.0422 \n",
       " 60 - 120    -13.53 9.53 203 -1.421  0.4880 \n",
       " 60 - 160    -20.02 9.53 203 -2.101  0.1562 \n",
       " 120 - 160    -6.48 9.53 203 -0.681  0.9044 \n",
       "\n",
       "Results are averaged over the levels of: stim \n",
       "Degrees-of-freedom method: kenward-roger \n",
       "P value adjustment: tukey method for comparing a family of 4 estimates \n"
      ]
     },
     "metadata": {},
     "output_type": "display_data"
    }
   ],
   "source": [
    "emmeans(artlm(m, \"freq\"), pairwise ~ freq)"
   ]
  },
  {
   "cell_type": "code",
   "execution_count": null,
   "metadata": {},
   "outputs": [],
   "source": []
  }
 ],
 "metadata": {
  "kernelspec": {
   "display_name": "R",
   "language": "R",
   "name": "ir"
  },
  "language_info": {
   "codemirror_mode": "r",
   "file_extension": ".r",
   "mimetype": "text/x-r-source",
   "name": "R",
   "pygments_lexer": "r",
   "version": "3.6.0"
  }
 },
 "nbformat": 4,
 "nbformat_minor": 4
}
