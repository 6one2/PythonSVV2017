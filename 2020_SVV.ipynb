{
 "cells": [
  {
   "cell_type": "code",
   "execution_count": 17,
   "metadata": {},
   "outputs": [],
   "source": [
    "import pandas as pd\n",
    "import numpy as np\n",
    "import glob\n",
    "from svv_read import Sub_SVV\n",
    "import matplotlib.pyplot as plt"
   ]
  },
  {
   "cell_type": "code",
   "execution_count": 18,
   "metadata": {},
   "outputs": [
    {
     "name": "stdout",
     "output_type": "stream",
     "text": [
      "Using matplotlib backend: MacOSX\n"
     ]
    }
   ],
   "source": [
    "%matplotlib auto\n",
    "pd.options.display.max_rows = 10"
   ]
  },
  {
   "cell_type": "code",
   "execution_count": 19,
   "metadata": {},
   "outputs": [],
   "source": [
    "# create data frame for results3\n",
    "df = pd.DataFrame()\n",
    "\n",
    "readfolder = '../DATA/EXP2/'\n",
    "list_subject = glob.glob(readfolder+'/S*')\n",
    "# list_subject"
   ]
  },
  {
   "cell_type": "markdown",
   "metadata": {},
   "source": [
    "## check following outliers\n",
    "\n",
    " - check S50: -20º values (bucket moved during test)\n",
    " - check S45: very high angle and very short RT\n",
    " - check S46: similar S45\n",
    " - check S47: low angles"
   ]
  },
  {
   "cell_type": "code",
   "execution_count": 20,
   "metadata": {},
   "outputs": [],
   "source": [
    "for sub in list_subject:\n",
    "    SUB = Sub_SVV(sub)\n",
    "    df = df.append(SUB.create_table(), ignore_index=True)\n"
   ]
  },
  {
   "cell_type": "code",
   "execution_count": 21,
   "metadata": {},
   "outputs": [],
   "source": [
    "# snb.stripplot(x='freq', y='SVV', data = df)\n",
    "# snb.stripplot(x='freq', y='SVV', data = df[(df['stim']=='SH') & (df['SVV']>2.5)])"
   ]
  },
  {
   "cell_type": "markdown",
   "metadata": {},
   "source": [
    "## check for Subjective Visual Vesrtical over 2.5º in control condition"
   ]
  },
  {
   "cell_type": "code",
   "execution_count": 22,
   "metadata": {},
   "outputs": [],
   "source": [
    "outliers = [(np.abs(df.loc[i,'SVV'])>2.5) and (df.loc[i,'stim']=='SH') for i in df.index]\n",
    "bad_id = df[outliers].id.unique()\n",
    "df.insert(len(df.columns), 'Outliers', df['id'].isin(bad_id))"
   ]
  },
  {
   "cell_type": "markdown",
   "metadata": {},
   "source": [
    "## graphical representation of SVV data with outliers in red"
   ]
  },
  {
   "cell_type": "code",
   "execution_count": 7,
   "metadata": {},
   "outputs": [],
   "source": [
    "bool_good_id = ~df['id'].isin(bad_id)\n",
    "bool_SHDC = df['freq'] == 0  # select CTRL and DC stimulation\n",
    "\n",
    "if False:    \n",
    "    plt.figure()\n",
    "    plt.subplot2grid((2,3),(0,0), rowspan=2)\n",
    "    plt.plot(df[bool_SHDC].stim, df[bool_SHDC].SVV, 'o', label='All')\n",
    "    plt.plot(df[bool_SHDC & ~bool_good_id].stim, df[bool_SHDC & ~bool_good_id].SVV, 'r.', ms=5, label='Outliers')\n",
    "    plt.fill_between(['DC', 'SH'], [2.5, 2.5], -2.5, alpha=0.5, color='grey')\n",
    "    plt.legend\n",
    "\n",
    "    plt.title('Reference conditions')\n",
    "    plt.xlabel('Stimulation')\n",
    "    plt.ylabel('SVV (º)')\n",
    "\n",
    "    plt.subplot2grid((2,3),(0,1), colspan=2)\n",
    "    plt.plot(df[~bool_SHDC & (df['stim']=='AC')].freq, df[~bool_SHDC & (df['stim']=='AC')].SVV, 'o', alpha=0.4)\n",
    "    plt.plot(df[~bool_SHDC & ~bool_good_id & (df['stim']=='AC')].freq, df[~bool_SHDC & ~bool_good_id & (df['stim']=='AC')].SVV, 'r.', ms=5)\n",
    "    plt.fill_between([20, 160], [2.5, 2.5], -2.5, alpha=0.5, color='grey')\n",
    "\n",
    "    plt.title('AC')\n",
    "    plt.xlabel('Frequency (Hz)')\n",
    "    plt.ylabel('SVV (º)')\n",
    "\n",
    "    plt.subplot2grid((2,3),(1,1), colspan=2)\n",
    "    plt.plot(df[~bool_SHDC & (df['stim']=='MF')].freq, df[~bool_SHDC & (df['stim']=='MF')].SVV, 'o', alpha=0.4)\n",
    "    plt.plot(df[~bool_SHDC & ~bool_good_id & (df['stim']=='MF')].freq, df[~bool_SHDC & ~bool_good_id & (df['stim']=='MF')].SVV, 'r.', ms=5)\n",
    "    plt.fill_between([20, 160], [2.5, 2.5], -2.5, alpha=0.5, color='grey')\n",
    "\n",
    "    plt.title('MF')\n",
    "    plt.xlabel('Frequency (Hz)')\n",
    "    plt.ylabel('SVV (º)')"
   ]
  },
  {
   "cell_type": "markdown",
   "metadata": {},
   "source": [
    "# Analysis over \"good participants\""
   ]
  },
  {
   "cell_type": "code",
   "execution_count": 8,
   "metadata": {},
   "outputs": [],
   "source": [
    "ndf = df[bool_good_id]  # remove subject with outliers SHAM data\n",
    "ndf.insert(len(ndf.columns),'RT_deg',ndf['Reaction_time']/ndf['Angle_init'])  # create Time/deg column\n",
    "ndf = ndf.drop(columns=['Angle_init','Reaction_time','Outliers'])\n",
    "ndf = ndf.groupby(['id','stim','freq']).mean()\n",
    "\n",
    "ref_svv = ndf.query('stim == \"SH\"')"
   ]
  },
  {
   "cell_type": "code",
   "execution_count": 9,
   "metadata": {},
   "outputs": [
    {
     "data": {
      "text/html": [
       "<div>\n",
       "<style scoped>\n",
       "    .dataframe tbody tr th:only-of-type {\n",
       "        vertical-align: middle;\n",
       "    }\n",
       "\n",
       "    .dataframe tbody tr th {\n",
       "        vertical-align: top;\n",
       "    }\n",
       "\n",
       "    .dataframe thead th {\n",
       "        text-align: right;\n",
       "    }\n",
       "</style>\n",
       "<table border=\"1\" class=\"dataframe\">\n",
       "  <thead>\n",
       "    <tr style=\"text-align: right;\">\n",
       "      <th></th>\n",
       "      <th></th>\n",
       "      <th></th>\n",
       "      <th>SVV</th>\n",
       "      <th>RT_deg</th>\n",
       "    </tr>\n",
       "    <tr>\n",
       "      <th>id</th>\n",
       "      <th>stim</th>\n",
       "      <th>freq</th>\n",
       "      <th></th>\n",
       "      <th></th>\n",
       "    </tr>\n",
       "  </thead>\n",
       "  <tbody>\n",
       "    <tr>\n",
       "      <th>S40</th>\n",
       "      <th>SH</th>\n",
       "      <th>0.0</th>\n",
       "      <td>-0.133333</td>\n",
       "      <td>-208.146214</td>\n",
       "    </tr>\n",
       "    <tr>\n",
       "      <th>S41</th>\n",
       "      <th>SH</th>\n",
       "      <th>0.0</th>\n",
       "      <td>0.154135</td>\n",
       "      <td>-234.387189</td>\n",
       "    </tr>\n",
       "    <tr>\n",
       "      <th>S42</th>\n",
       "      <th>SH</th>\n",
       "      <th>0.0</th>\n",
       "      <td>-0.352208</td>\n",
       "      <td>-342.433534</td>\n",
       "    </tr>\n",
       "    <tr>\n",
       "      <th>S43</th>\n",
       "      <th>SH</th>\n",
       "      <th>0.0</th>\n",
       "      <td>-0.125796</td>\n",
       "      <td>-246.017915</td>\n",
       "    </tr>\n",
       "    <tr>\n",
       "      <th>S44</th>\n",
       "      <th>SH</th>\n",
       "      <th>0.0</th>\n",
       "      <td>-0.527896</td>\n",
       "      <td>-207.852142</td>\n",
       "    </tr>\n",
       "    <tr>\n",
       "      <th>...</th>\n",
       "      <th>...</th>\n",
       "      <th>...</th>\n",
       "      <td>...</td>\n",
       "      <td>...</td>\n",
       "    </tr>\n",
       "    <tr>\n",
       "      <th>S68</th>\n",
       "      <th>SH</th>\n",
       "      <th>0.0</th>\n",
       "      <td>-0.663784</td>\n",
       "      <td>-167.427528</td>\n",
       "    </tr>\n",
       "    <tr>\n",
       "      <th>S69</th>\n",
       "      <th>SH</th>\n",
       "      <th>0.0</th>\n",
       "      <td>-1.179175</td>\n",
       "      <td>-533.652934</td>\n",
       "    </tr>\n",
       "    <tr>\n",
       "      <th>S70</th>\n",
       "      <th>SH</th>\n",
       "      <th>0.0</th>\n",
       "      <td>-0.779787</td>\n",
       "      <td>-236.294071</td>\n",
       "    </tr>\n",
       "    <tr>\n",
       "      <th>S71</th>\n",
       "      <th>SH</th>\n",
       "      <th>0.0</th>\n",
       "      <td>-1.151723</td>\n",
       "      <td>-287.419798</td>\n",
       "    </tr>\n",
       "    <tr>\n",
       "      <th>S72</th>\n",
       "      <th>SH</th>\n",
       "      <th>0.0</th>\n",
       "      <td>0.250464</td>\n",
       "      <td>-275.686642</td>\n",
       "    </tr>\n",
       "  </tbody>\n",
       "</table>\n",
       "<p>30 rows × 2 columns</p>\n",
       "</div>"
      ],
      "text/plain": [
       "                    SVV      RT_deg\n",
       "id  stim freq                      \n",
       "S40 SH   0.0  -0.133333 -208.146214\n",
       "S41 SH   0.0   0.154135 -234.387189\n",
       "S42 SH   0.0  -0.352208 -342.433534\n",
       "S43 SH   0.0  -0.125796 -246.017915\n",
       "S44 SH   0.0  -0.527896 -207.852142\n",
       "...                 ...         ...\n",
       "S68 SH   0.0  -0.663784 -167.427528\n",
       "S69 SH   0.0  -1.179175 -533.652934\n",
       "S70 SH   0.0  -0.779787 -236.294071\n",
       "S71 SH   0.0  -1.151723 -287.419798\n",
       "S72 SH   0.0   0.250464 -275.686642\n",
       "\n",
       "[30 rows x 2 columns]"
      ]
     },
     "execution_count": 9,
     "metadata": {},
     "output_type": "execute_result"
    }
   ],
   "source": [
    "ref_svv"
   ]
  },
  {
   "cell_type": "markdown",
   "metadata": {},
   "source": [
    "## create new table with delta-SVV as difference SVVcond - SVVctrl"
   ]
  },
  {
   "cell_type": "code",
   "execution_count": 10,
   "metadata": {
    "scrolled": true
   },
   "outputs": [
    {
     "data": {
      "text/html": [
       "<div>\n",
       "<style scoped>\n",
       "    .dataframe tbody tr th:only-of-type {\n",
       "        vertical-align: middle;\n",
       "    }\n",
       "\n",
       "    .dataframe tbody tr th {\n",
       "        vertical-align: top;\n",
       "    }\n",
       "\n",
       "    .dataframe thead th {\n",
       "        text-align: right;\n",
       "    }\n",
       "</style>\n",
       "<table border=\"1\" class=\"dataframe\">\n",
       "  <thead>\n",
       "    <tr style=\"text-align: right;\">\n",
       "      <th></th>\n",
       "      <th>SVV</th>\n",
       "      <th>RT_deg</th>\n",
       "    </tr>\n",
       "    <tr>\n",
       "      <th>id</th>\n",
       "      <th></th>\n",
       "      <th></th>\n",
       "    </tr>\n",
       "  </thead>\n",
       "  <tbody>\n",
       "    <tr>\n",
       "      <th>S40</th>\n",
       "      <td>-0.133333</td>\n",
       "      <td>-208.146214</td>\n",
       "    </tr>\n",
       "    <tr>\n",
       "      <th>S41</th>\n",
       "      <td>0.154135</td>\n",
       "      <td>-234.387189</td>\n",
       "    </tr>\n",
       "    <tr>\n",
       "      <th>S42</th>\n",
       "      <td>-0.352208</td>\n",
       "      <td>-342.433534</td>\n",
       "    </tr>\n",
       "    <tr>\n",
       "      <th>S43</th>\n",
       "      <td>-0.125796</td>\n",
       "      <td>-246.017915</td>\n",
       "    </tr>\n",
       "    <tr>\n",
       "      <th>S44</th>\n",
       "      <td>-0.527896</td>\n",
       "      <td>-207.852142</td>\n",
       "    </tr>\n",
       "    <tr>\n",
       "      <th>...</th>\n",
       "      <td>...</td>\n",
       "      <td>...</td>\n",
       "    </tr>\n",
       "    <tr>\n",
       "      <th>S68</th>\n",
       "      <td>-0.663784</td>\n",
       "      <td>-167.427528</td>\n",
       "    </tr>\n",
       "    <tr>\n",
       "      <th>S69</th>\n",
       "      <td>-1.179175</td>\n",
       "      <td>-533.652934</td>\n",
       "    </tr>\n",
       "    <tr>\n",
       "      <th>S70</th>\n",
       "      <td>-0.779787</td>\n",
       "      <td>-236.294071</td>\n",
       "    </tr>\n",
       "    <tr>\n",
       "      <th>S71</th>\n",
       "      <td>-1.151723</td>\n",
       "      <td>-287.419798</td>\n",
       "    </tr>\n",
       "    <tr>\n",
       "      <th>S72</th>\n",
       "      <td>0.250464</td>\n",
       "      <td>-275.686642</td>\n",
       "    </tr>\n",
       "  </tbody>\n",
       "</table>\n",
       "<p>30 rows × 2 columns</p>\n",
       "</div>"
      ],
      "text/plain": [
       "          SVV      RT_deg\n",
       "id                       \n",
       "S40 -0.133333 -208.146214\n",
       "S41  0.154135 -234.387189\n",
       "S42 -0.352208 -342.433534\n",
       "S43 -0.125796 -246.017915\n",
       "S44 -0.527896 -207.852142\n",
       "..        ...         ...\n",
       "S68 -0.663784 -167.427528\n",
       "S69 -1.179175 -533.652934\n",
       "S70 -0.779787 -236.294071\n",
       "S71 -1.151723 -287.419798\n",
       "S72  0.250464 -275.686642\n",
       "\n",
       "[30 rows x 2 columns]"
      ]
     },
     "execution_count": 10,
     "metadata": {},
     "output_type": "execute_result"
    }
   ],
   "source": [
    "to_subtract = ref_svv.reset_index(level=[1,2], drop=True)\n",
    "to_subtract"
   ]
  },
  {
   "cell_type": "code",
   "execution_count": 11,
   "metadata": {},
   "outputs": [
    {
     "data": {
      "text/html": [
       "<div>\n",
       "<style scoped>\n",
       "    .dataframe tbody tr th:only-of-type {\n",
       "        vertical-align: middle;\n",
       "    }\n",
       "\n",
       "    .dataframe tbody tr th {\n",
       "        vertical-align: top;\n",
       "    }\n",
       "\n",
       "    .dataframe thead th {\n",
       "        text-align: right;\n",
       "    }\n",
       "</style>\n",
       "<table border=\"1\" class=\"dataframe\">\n",
       "  <thead>\n",
       "    <tr style=\"text-align: right;\">\n",
       "      <th></th>\n",
       "      <th></th>\n",
       "      <th></th>\n",
       "      <th>SVV</th>\n",
       "      <th>RT_deg</th>\n",
       "    </tr>\n",
       "    <tr>\n",
       "      <th>id</th>\n",
       "      <th>stim</th>\n",
       "      <th>freq</th>\n",
       "      <th></th>\n",
       "      <th></th>\n",
       "    </tr>\n",
       "  </thead>\n",
       "  <tbody>\n",
       "    <tr>\n",
       "      <th rowspan=\"5\" valign=\"top\">S40</th>\n",
       "      <th rowspan=\"4\" valign=\"top\">AC</th>\n",
       "      <th>20.0</th>\n",
       "      <td>-0.675000</td>\n",
       "      <td>-14.781405</td>\n",
       "    </tr>\n",
       "    <tr>\n",
       "      <th>60.0</th>\n",
       "      <td>-0.033333</td>\n",
       "      <td>26.559257</td>\n",
       "    </tr>\n",
       "    <tr>\n",
       "      <th>120.0</th>\n",
       "      <td>-0.050000</td>\n",
       "      <td>1.334726</td>\n",
       "    </tr>\n",
       "    <tr>\n",
       "      <th>160.0</th>\n",
       "      <td>-0.108333</td>\n",
       "      <td>-6.586047</td>\n",
       "    </tr>\n",
       "    <tr>\n",
       "      <th>DC</th>\n",
       "      <th>0.0</th>\n",
       "      <td>-0.091667</td>\n",
       "      <td>15.188827</td>\n",
       "    </tr>\n",
       "  </tbody>\n",
       "</table>\n",
       "</div>"
      ],
      "text/plain": [
       "                     SVV     RT_deg\n",
       "id  stim freq                      \n",
       "S40 AC   20.0  -0.675000 -14.781405\n",
       "         60.0  -0.033333  26.559257\n",
       "         120.0 -0.050000   1.334726\n",
       "         160.0 -0.108333  -6.586047\n",
       "    DC   0.0   -0.091667  15.188827"
      ]
     },
     "execution_count": 11,
     "metadata": {},
     "output_type": "execute_result"
    }
   ],
   "source": [
    "delta_svv = ndf.sub(to_subtract,axis=0, level=0)\n",
    "delta_svv.head()"
   ]
  },
  {
   "cell_type": "code",
   "execution_count": 12,
   "metadata": {},
   "outputs": [
    {
     "name": "stderr",
     "output_type": "stream",
     "text": [
      "/Users/sebastienvillard/anaconda3/lib/python3.7/site-packages/statsmodels/tools/_testing.py:19: FutureWarning: pandas.util.testing is deprecated. Use the functions in the public API at pandas.testing instead.\n",
      "  import pandas.util.testing as tm\n"
     ]
    }
   ],
   "source": [
    "import seaborn as sns"
   ]
  },
  {
   "cell_type": "code",
   "execution_count": 13,
   "metadata": {},
   "outputs": [
    {
     "data": {
      "text/html": [
       "<div>\n",
       "<style scoped>\n",
       "    .dataframe tbody tr th:only-of-type {\n",
       "        vertical-align: middle;\n",
       "    }\n",
       "\n",
       "    .dataframe tbody tr th {\n",
       "        vertical-align: top;\n",
       "    }\n",
       "\n",
       "    .dataframe thead th {\n",
       "        text-align: right;\n",
       "    }\n",
       "</style>\n",
       "<table border=\"1\" class=\"dataframe\">\n",
       "  <thead>\n",
       "    <tr style=\"text-align: right;\">\n",
       "      <th></th>\n",
       "      <th>stim</th>\n",
       "      <th>freq</th>\n",
       "      <th>SVV</th>\n",
       "      <th>RT_deg</th>\n",
       "    </tr>\n",
       "    <tr>\n",
       "      <th>id</th>\n",
       "      <th></th>\n",
       "      <th></th>\n",
       "      <th></th>\n",
       "      <th></th>\n",
       "    </tr>\n",
       "  </thead>\n",
       "  <tbody>\n",
       "    <tr>\n",
       "      <th>S40</th>\n",
       "      <td>AC</td>\n",
       "      <td>20.0</td>\n",
       "      <td>-0.675000</td>\n",
       "      <td>-14.781405</td>\n",
       "    </tr>\n",
       "    <tr>\n",
       "      <th>S40</th>\n",
       "      <td>AC</td>\n",
       "      <td>60.0</td>\n",
       "      <td>-0.033333</td>\n",
       "      <td>26.559257</td>\n",
       "    </tr>\n",
       "    <tr>\n",
       "      <th>S40</th>\n",
       "      <td>AC</td>\n",
       "      <td>120.0</td>\n",
       "      <td>-0.050000</td>\n",
       "      <td>1.334726</td>\n",
       "    </tr>\n",
       "    <tr>\n",
       "      <th>S40</th>\n",
       "      <td>AC</td>\n",
       "      <td>160.0</td>\n",
       "      <td>-0.108333</td>\n",
       "      <td>-6.586047</td>\n",
       "    </tr>\n",
       "    <tr>\n",
       "      <th>S40</th>\n",
       "      <td>DC</td>\n",
       "      <td>0.0</td>\n",
       "      <td>-0.091667</td>\n",
       "      <td>15.188827</td>\n",
       "    </tr>\n",
       "  </tbody>\n",
       "</table>\n",
       "</div>"
      ],
      "text/plain": [
       "    stim   freq       SVV     RT_deg\n",
       "id                                  \n",
       "S40   AC   20.0 -0.675000 -14.781405\n",
       "S40   AC   60.0 -0.033333  26.559257\n",
       "S40   AC  120.0 -0.050000   1.334726\n",
       "S40   AC  160.0 -0.108333  -6.586047\n",
       "S40   DC    0.0 -0.091667  15.188827"
      ]
     },
     "execution_count": 13,
     "metadata": {},
     "output_type": "execute_result"
    }
   ],
   "source": [
    "delta_svv.reset_index(level=['stim', 'freq'], inplace=True)\n",
    "delta_svv.head()"
   ]
  },
  {
   "cell_type": "code",
   "execution_count": 88,
   "metadata": {},
   "outputs": [
    {
     "name": "stderr",
     "output_type": "stream",
     "text": [
      "/Users/sebastienvillard/anaconda3/lib/python3.7/site-packages/seaborn/axisgrid.py:715: UserWarning: Using the boxplot function without specifying `order` is likely to produce an incorrect plot.\n",
      "  warnings.warn(warning)\n",
      "/Users/sebastienvillard/anaconda3/lib/python3.7/site-packages/seaborn/axisgrid.py:715: UserWarning: Using the swarmplot function without specifying `order` is likely to produce an incorrect plot.\n",
      "  warnings.warn(warning)\n"
     ]
    }
   ],
   "source": [
    "sns.set_style(\"whitegrid\")\n",
    "sns.set(font=\"monospace\")\n",
    "\n",
    "data = delta_svv.query('freq != 0 & stim != \"MX\"')\n",
    "data.freq.astype(int)\n",
    "\n",
    "\n",
    "g = sns.FacetGrid(data, col='stim')  # check sns.catplot\n",
    "g.map(sns.boxplot, 'freq', 'SVV', palette='colorblind')\n",
    "g.map(sns.swarmplot, 'freq', 'SVV', color='black')\n",
    "g.set_xlabels('Frequency (Hz)')\n",
    "g.set_ylabels(r'$\\delta$ SVV (deg)')\n",
    "\n",
    "# sns.despine(offset=10, trim=True);\n",
    "\n",
    "if False:\n",
    "    h = sns.FacetGrid(data, col='stim')\n",
    "    h.map(sns.boxplot, 'freq', 'RT_deg', palette='colorblind')\n",
    "    h.map(sns.swarmplot, 'freq', 'RT_deg', color='black')\n",
    "\n",
    "# sns.boxplot(x='freq', y='SVV', data=data, hue='stim', palette='colorblind')\n",
    "# sns.swarmplot(x='freq', y='SVV', data=data, hue='stim')\n"
   ]
  },
  {
   "cell_type": "code",
   "execution_count": 59,
   "metadata": {},
   "outputs": [
    {
     "name": "stdout",
     "output_type": "stream",
     "text": [
      "Using matplotlib backend: MacOSX\n"
     ]
    }
   ],
   "source": [
    "# sns.axes_style()\n"
   ]
  },
  {
   "cell_type": "code",
   "execution_count": 15,
   "metadata": {},
   "outputs": [
    {
     "data": {
      "text/plain": [
       "<seaborn.axisgrid.FacetGrid at 0x1216775d0>"
      ]
     },
     "execution_count": 15,
     "metadata": {},
     "output_type": "execute_result"
    }
   ],
   "source": [
    "sns.catplot(data=data,\n",
    "           kind='violin',\n",
    "           x='freq',\n",
    "           y='SVV',\n",
    "           col='stim',\n",
    "           hue='freq',\n",
    "           palette='colorblind')"
   ]
  },
  {
   "cell_type": "markdown",
   "metadata": {},
   "source": [
    "## Export data for Analysis"
   ]
  },
  {
   "cell_type": "code",
   "execution_count": 16,
   "metadata": {},
   "outputs": [],
   "source": [
    "# data.to_csv('TableRes_delta.csv')"
   ]
  },
  {
   "cell_type": "code",
   "execution_count": 89,
   "metadata": {},
   "outputs": [],
   "source": [
    "fig = plt.gcf()"
   ]
  },
  {
   "cell_type": "code",
   "execution_count": 90,
   "metadata": {},
   "outputs": [],
   "source": [
    "fig.savefig('deltaSVV.png', dpi=300)"
   ]
  },
  {
   "cell_type": "code",
   "execution_count": null,
   "metadata": {},
   "outputs": [],
   "source": []
  }
 ],
 "metadata": {
  "kernelspec": {
   "display_name": "Python 3",
   "language": "python",
   "name": "python3"
  },
  "language_info": {
   "codemirror_mode": {
    "name": "ipython",
    "version": 3
   },
   "file_extension": ".py",
   "mimetype": "text/x-python",
   "name": "python",
   "nbconvert_exporter": "python",
   "pygments_lexer": "ipython3",
   "version": "3.7.6"
  }
 },
 "nbformat": 4,
 "nbformat_minor": 4
}
