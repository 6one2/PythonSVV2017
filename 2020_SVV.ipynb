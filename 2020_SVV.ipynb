{
 "cells": [
  {
   "cell_type": "code",
   "execution_count": 1,
   "metadata": {},
   "outputs": [],
   "source": [
    "import pandas as pd\n",
    "import numpy as np\n",
    "import glob\n",
    "from svv_read import Sub_SVV\n",
    "import matplotlib.pyplot as plt"
   ]
  },
  {
   "cell_type": "code",
   "execution_count": 2,
   "metadata": {},
   "outputs": [
    {
     "name": "stdout",
     "output_type": "stream",
     "text": [
      "Using matplotlib backend: MacOSX\n"
     ]
    }
   ],
   "source": [
    "%matplotlib auto\n",
    "pd.options.display.max_rows = None"
   ]
  },
  {
   "cell_type": "code",
   "execution_count": 3,
   "metadata": {},
   "outputs": [],
   "source": [
    "# create data frame for results3\n",
    "df = pd.DataFrame()\n",
    "\n",
    "readfolder = '../DATA/EXP2/'\n",
    "list_subject = glob.glob(readfolder+'/S*')\n",
    "# list_subject"
   ]
  },
  {
   "cell_type": "markdown",
   "metadata": {},
   "source": [
    "## check following outliers\n",
    "\n",
    " - check S50: -20º values (bucket moved during test)\n",
    " - check S45: very high angle and very short RT\n",
    " - check S46: similar S45\n",
    " - check S47: low angles"
   ]
  },
  {
   "cell_type": "code",
   "execution_count": 4,
   "metadata": {},
   "outputs": [],
   "source": [
    "for sub in list_subject:\n",
    "    SUB = Sub_SVV(sub)\n",
    "    df = df.append(SUB.create_table(), ignore_index=True)\n"
   ]
  },
  {
   "cell_type": "code",
   "execution_count": 5,
   "metadata": {},
   "outputs": [],
   "source": [
    "# snb.stripplot(x='freq', y='SVV', data = df)\n",
    "# snb.stripplot(x='freq', y='SVV', data = df[(df['stim']=='SH') & (df['SVV']>2.5)])"
   ]
  },
  {
   "cell_type": "markdown",
   "metadata": {},
   "source": [
    "## check for Subjective Visual Vesrtical over 2.5º in control condition"
   ]
  },
  {
   "cell_type": "code",
   "execution_count": 6,
   "metadata": {},
   "outputs": [],
   "source": [
    "outliers = [(np.abs(df.loc[i,'SVV'])>2.5) and (df.loc[i,'stim']=='SH') for i in df.index]\n",
    "bad_id = df[outliers].id.unique()\n",
    "df.insert(len(df.columns), 'Outliers', df['id'].isin(bad_id))"
   ]
  },
  {
   "cell_type": "markdown",
   "metadata": {},
   "source": [
    "## graphical representation of SVV data with outliers in red"
   ]
  },
  {
   "cell_type": "code",
   "execution_count": 7,
   "metadata": {},
   "outputs": [],
   "source": [
    "bool_good_id = ~df['id'].isin(bad_id)\n",
    "bool_SHDC = df['freq'] == 0  # select CTRL and DC stimulation\n",
    "\n",
    "if False:    \n",
    "    plt.figure()\n",
    "    plt.subplot2grid((2,3),(0,0), rowspan=2)\n",
    "    plt.plot(df[bool_SHDC].stim, df[bool_SHDC].SVV, 'o', label='All')\n",
    "    plt.plot(df[bool_SHDC & ~bool_good_id].stim, df[bool_SHDC & ~bool_good_id].SVV, 'r.', ms=5, label='Outliers')\n",
    "    plt.fill_between(['DC', 'SH'], [2.5, 2.5], -2.5, alpha=0.5, color='grey')\n",
    "    plt.legend\n",
    "\n",
    "    plt.title('Reference conditions')\n",
    "    plt.xlabel('Stimulation')\n",
    "    plt.ylabel('SVV (º)')\n",
    "\n",
    "    plt.subplot2grid((2,3),(0,1), colspan=2)\n",
    "    plt.plot(df[~bool_SHDC & (df['stim']=='AC')].freq, df[~bool_SHDC & (df['stim']=='AC')].SVV, 'o', alpha=0.4)\n",
    "    plt.plot(df[~bool_SHDC & ~bool_good_id & (df['stim']=='AC')].freq, df[~bool_SHDC & ~bool_good_id & (df['stim']=='AC')].SVV, 'r.', ms=5)\n",
    "    plt.fill_between([20, 160], [2.5, 2.5], -2.5, alpha=0.5, color='grey')\n",
    "\n",
    "    plt.title('AC')\n",
    "    plt.xlabel('Frequency (Hz)')\n",
    "    plt.ylabel('SVV (º)')\n",
    "\n",
    "    plt.subplot2grid((2,3),(1,1), colspan=2)\n",
    "    plt.plot(df[~bool_SHDC & (df['stim']=='MF')].freq, df[~bool_SHDC & (df['stim']=='MF')].SVV, 'o', alpha=0.4)\n",
    "    plt.plot(df[~bool_SHDC & ~bool_good_id & (df['stim']=='MF')].freq, df[~bool_SHDC & ~bool_good_id & (df['stim']=='MF')].SVV, 'r.', ms=5)\n",
    "    plt.fill_between([20, 160], [2.5, 2.5], -2.5, alpha=0.5, color='grey')\n",
    "\n",
    "    plt.title('MF')\n",
    "    plt.xlabel('Frequency (Hz)')\n",
    "    plt.ylabel('SVV (º)')"
   ]
  },
  {
   "cell_type": "markdown",
   "metadata": {},
   "source": [
    "# Analysis over \"good participants\""
   ]
  },
  {
   "cell_type": "code",
   "execution_count": 8,
   "metadata": {},
   "outputs": [
    {
     "data": {
      "text/html": [
       "<div>\n",
       "<style scoped>\n",
       "    .dataframe tbody tr th:only-of-type {\n",
       "        vertical-align: middle;\n",
       "    }\n",
       "\n",
       "    .dataframe tbody tr th {\n",
       "        vertical-align: top;\n",
       "    }\n",
       "\n",
       "    .dataframe thead th {\n",
       "        text-align: right;\n",
       "    }\n",
       "</style>\n",
       "<table border=\"1\" class=\"dataframe\">\n",
       "  <thead>\n",
       "    <tr style=\"text-align: right;\">\n",
       "      <th></th>\n",
       "      <th>id</th>\n",
       "      <th>trial</th>\n",
       "      <th>stim</th>\n",
       "      <th>freq</th>\n",
       "      <th>rep</th>\n",
       "      <th>Angle_init</th>\n",
       "      <th>SVV</th>\n",
       "      <th>Reaction_time</th>\n",
       "      <th>Outliers</th>\n",
       "    </tr>\n",
       "  </thead>\n",
       "  <tbody>\n",
       "    <tr>\n",
       "      <th>0</th>\n",
       "      <td>S67</td>\n",
       "      <td>T01</td>\n",
       "      <td>MF</td>\n",
       "      <td>120.0</td>\n",
       "      <td>T1</td>\n",
       "      <td>-21.060645</td>\n",
       "      <td>-0.527312</td>\n",
       "      <td>5030.0</td>\n",
       "      <td>False</td>\n",
       "    </tr>\n",
       "    <tr>\n",
       "      <th>1</th>\n",
       "      <td>S67</td>\n",
       "      <td>T18</td>\n",
       "      <td>AC</td>\n",
       "      <td>60.0</td>\n",
       "      <td>T0</td>\n",
       "      <td>-20.586103</td>\n",
       "      <td>-0.519436</td>\n",
       "      <td>3316.0</td>\n",
       "      <td>False</td>\n",
       "    </tr>\n",
       "    <tr>\n",
       "      <th>2</th>\n",
       "      <td>S67</td>\n",
       "      <td>T12</td>\n",
       "      <td>DC</td>\n",
       "      <td>0.0</td>\n",
       "      <td>T1</td>\n",
       "      <td>-24.734157</td>\n",
       "      <td>-2.567490</td>\n",
       "      <td>4143.0</td>\n",
       "      <td>False</td>\n",
       "    </tr>\n",
       "    <tr>\n",
       "      <th>3</th>\n",
       "      <td>S67</td>\n",
       "      <td>T09</td>\n",
       "      <td>AC</td>\n",
       "      <td>160.0</td>\n",
       "      <td>T1</td>\n",
       "      <td>-21.389072</td>\n",
       "      <td>-0.389072</td>\n",
       "      <td>4357.0</td>\n",
       "      <td>False</td>\n",
       "    </tr>\n",
       "    <tr>\n",
       "      <th>4</th>\n",
       "      <td>S67</td>\n",
       "      <td>T20</td>\n",
       "      <td>MF</td>\n",
       "      <td>20.0</td>\n",
       "      <td>T1</td>\n",
       "      <td>-22.588575</td>\n",
       "      <td>-1.121908</td>\n",
       "      <td>6114.0</td>\n",
       "      <td>False</td>\n",
       "    </tr>\n",
       "  </tbody>\n",
       "</table>\n",
       "</div>"
      ],
      "text/plain": [
       "    id trial stim   freq rep  Angle_init       SVV  Reaction_time  Outliers\n",
       "0  S67   T01   MF  120.0  T1  -21.060645 -0.527312         5030.0     False\n",
       "1  S67   T18   AC   60.0  T0  -20.586103 -0.519436         3316.0     False\n",
       "2  S67   T12   DC    0.0  T1  -24.734157 -2.567490         4143.0     False\n",
       "3  S67   T09   AC  160.0  T1  -21.389072 -0.389072         4357.0     False\n",
       "4  S67   T20   MF   20.0  T1  -22.588575 -1.121908         6114.0     False"
      ]
     },
     "execution_count": 8,
     "metadata": {},
     "output_type": "execute_result"
    }
   ],
   "source": [
    "ndf = df[bool_good_id]  # remove subject with outliers SHAM data\n",
    "ndf.head()"
   ]
  },
  {
   "cell_type": "markdown",
   "metadata": {},
   "source": [
    "## create new table with delta-SVV as difference SVVcond - SVVctrl"
   ]
  },
  {
   "cell_type": "code",
   "execution_count": null,
   "metadata": {},
   "outputs": [],
   "source": [
    "ctrl_svv = [ndf[(ndf['id']==i) & (ndf['stim']=='SH')].SVV.mean() for i in ndf.id.unique()]"
   ]
  },
  {
   "cell_type": "code",
   "execution_count": null,
   "metadata": {},
   "outputs": [],
   "source": []
  },
  {
   "cell_type": "code",
   "execution_count": null,
   "metadata": {},
   "outputs": [],
   "source": []
  }
 ],
 "metadata": {
  "kernelspec": {
   "display_name": "Python 3",
   "language": "python",
   "name": "python3"
  },
  "language_info": {
   "codemirror_mode": {
    "name": "ipython",
    "version": 3
   },
   "file_extension": ".py",
   "mimetype": "text/x-python",
   "name": "python",
   "nbconvert_exporter": "python",
   "pygments_lexer": "ipython3",
   "version": "3.7.6"
  }
 },
 "nbformat": 4,
 "nbformat_minor": 4
}
